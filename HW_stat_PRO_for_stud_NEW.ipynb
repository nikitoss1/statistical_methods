{
 "cells": [
  {
   "cell_type": "markdown",
   "id": "8277ca02",
   "metadata": {
    "id": "8277ca02",
    "papermill": {
     "duration": 0.112743,
     "end_time": "2022-09-17T00:12:57.265328",
     "exception": false,
     "start_time": "2022-09-17T00:12:57.152585",
     "status": "completed"
    },
    "tags": []
   },
   "source": [
    "\n",
    "# Проверка гипотез с помощью python."
   ]
  },
  {
   "cell_type": "markdown",
   "id": "ed2f4a30",
   "metadata": {
    "id": "ed2f4a30",
    "papermill": {
     "duration": 0.109327,
     "end_time": "2022-09-17T00:12:57.963155",
     "exception": false,
     "start_time": "2022-09-17T00:12:57.853828",
     "status": "completed"
    },
    "tags": []
   },
   "source": [
    "## Задание\n",
    "\n",
    "* Выполненить проверку предложенной гипотезы\n",
    "* Выполненить проверку статистической гипотезы для проверки нормальности числовых признаков\n",
    "* Проверка мультиколлинеарности\n",
    "* Все статистические тесты должны быть выполнены с 95%-ным уровнем достоверности (т.е. значение р < 0,05)"
   ]
  },
  {
   "cell_type": "markdown",
   "id": "b36dd14f-cd82-46c1-87de-cde64db77940",
   "metadata": {
    "id": "ba760e61",
    "papermill": {
     "duration": 0.106947,
     "end_time": "2022-09-17T00:13:02.034149",
     "exception": false,
     "start_time": "2022-09-17T00:13:01.927202",
     "status": "completed"
    },
    "tags": []
   },
   "source": [
    "## Датасет"
   ]
  },
  {
   "cell_type": "markdown",
   "id": "ab7d97da-ee9e-4cd5-8d01-f75481a99393",
   "metadata": {},
   "source": [
    "Как данные представлены заказчиком:"
   ]
  },
  {
   "cell_type": "markdown",
   "id": "746dd87c-32f5-4ee4-97f3-ace09b9661ae",
   "metadata": {
    "id": "aaba22c5",
    "papermill": {
     "duration": 0.107761,
     "end_time": "2022-09-17T00:13:02.248931",
     "exception": false,
     "start_time": "2022-09-17T00:13:02.141170",
     "status": "completed"
    },
    "tags": []
   },
   "source": [
    "<table>\n",
    "<thead><tr>\n",
    "<th><strong>Feature Name</strong></th>\n",
    "<th><strong>Description</strong></th>\n",
    "<th><strong>Data Type</strong></th>\n",
    "</tr>\n",
    "</thead>\n",
    "<tbody>\n",
    "<tr>\n",
    "<td>customerID</td>\n",
    "<td>Содержит идентификатор клиента</td>\n",
    "<td>categorical</td>\n",
    "</tr>\n",
    "<tr>\n",
    "<td>gender</td>\n",
    "<td>Пол клиента</td>\n",
    "<td>categorical</td>\n",
    "</tr>\n",
    "<tr>\n",
    "<td>SeniorCitizen</td>\n",
    "<td>Является ли клиент пожилым гражданином</td>\n",
    "<td>numeric, int</td>\n",
    "</tr>\n",
    "<tr>\n",
    "<td>Partner</td>\n",
    "<td>Есть ли у клиента партнер</td>\n",
    "<td>categorical</td>\n",
    "</tr>\n",
    "<tr>\n",
    "<td>Dependents</td>\n",
    "<td>Является ли клиент кормильцем</td>\n",
    "<td>categorical</td>\n",
    "</tr>\n",
    "<tr>\n",
    "<td>tenure</td>\n",
    "<td>Количество месяцев, в течение которых клиент оставался в компании</td>\n",
    "<td>numeric, int</td>\n",
    "</tr>\n",
    "<tr>\n",
    "<td>PhoneService</td>\n",
    "<td>Есть ли у клиента телефонная связь</td>\n",
    "<td>categorical</td>\n",
    "</tr>\n",
    "<tr>\n",
    "<td>MultipleLines</td>\n",
    "<td>Есть ли у клиента несколько линий</td>\n",
    "<td>categorical</td>\n",
    "</tr>\n",
    "<tr>\n",
    "<td>InternetService</td>\n",
    "<td>Интернет-провайдер клиента</td>\n",
    "<td>categorical</td>\n",
    "</tr>\n",
    "<tr>\n",
    "<td>OnlineSecurity</td>\n",
    "<td>Есть ли у клиента онлайн-безопасность</td>\n",
    "<td>categorical</td>\n",
    "</tr>\n",
    "<tr>\n",
    "<td>OnlineBackup</td>\n",
    "<td>Есть ли у клиента онлайн-резервное копирование</td>\n",
    "<td>categorical</td>\n",
    "</tr>\n",
    "<tr>\n",
    "<td>DeviceProtection</td>\n",
    "<td>Имеет ли клиент защиту устройства</td>\n",
    "<td>categorical</td>\n",
    "</tr>\n",
    "<tr>\n",
    "<td>TechSupport</td>\n",
    "<td>Есть ли у клиента техническая поддержка</td>\n",
    "<td>categorical</td>\n",
    "</tr>\n",
    "<tr>\n",
    "<td>streamingTV</td>\n",
    "<td>Есть ли у клиента потоковое телевидение</td>\n",
    "<td>categorical</td>\n",
    "</tr>\n",
    "<tr>\n",
    "<td>streamingMovies</td>\n",
    "<td>Есть ли у клиента стриминговые сервисы</td>\n",
    "<td>categorical</td>\n",
    "</tr>\n",
    "<tr>\n",
    "<td>Contract</td>\n",
    "<td>Срок действия контракта заказчика</td>\n",
    "<td>categorical</td>\n",
    "</tr>\n",
    "<tr>\n",
    "<td>PaperlessBilling</td>\n",
    "<td>имеет ли клиент безналичные счета</td>\n",
    "<td>categorical</td>\n",
    "</tr>\n",
    "<tr>\n",
    "<td>PaymentMethod</td>\n",
    "<td>Способ оплаты клиента</td>\n",
    "<td>categorical</td>\n",
    "</tr>\n",
    "<tr>\n",
    "<td>MonthlyCharges</td>\n",
    "<td>Сумма, взимаемая с клиента ежемесячно </td>\n",
    "<td> numeric , int</td>\n",
    "</tr>\n",
    "<tr>\n",
    "<td>TotalCharges</td>\n",
    "<td>Общая сумма, списанная с клиента</td>\n",
    "<td>object</td>\n",
    "</tr>\n",
    "<tr>\n",
    "<td>Churn</td>\n",
    "<td>Ушел ли клиент</td>\n",
    "<td>categorical</td>\n",
    "</tr>\n",
    "</tbody>\n",
    "</table>"
   ]
  },
  {
   "cell_type": "markdown",
   "id": "08ae603f-bf76-4e2a-b7e0-cc8f4c48ea08",
   "metadata": {},
   "source": [
    "Описание от заказчика:\n",
    "\n",
    "Каждая строка представляет клиента, каждый столбец содержит атрибуты клиента.\n",
    "\n",
    "Набор данных включает информацию о:\n",
    "\n",
    "- Клиенты, которые ушли в течение последнего месяца - колонка называется `Churn`\n",
    "- Услуги, на которые подписался каждый клиент - телефон, несколько линий, интернет, онлайн-безопасность, резервное копирование, защита устройств, техническая поддержка, потоковое ТВ и фильмы.\n",
    "- Информация о счетах клиентов - как долго они являются клиентами, контракт, способ оплаты, безналичные счета, ежемесячные платежи и общая сумма платежей.\n",
    "- Демографическая информация о клиентах - пол, возраст, наличие партнеров и иждивенцев."
   ]
  },
  {
   "cell_type": "markdown",
   "id": "d5987f69",
   "metadata": {
    "id": "d5987f69",
    "papermill": {
     "duration": 0.104938,
     "end_time": "2022-09-17T00:12:58.405685",
     "exception": false,
     "start_time": "2022-09-17T00:12:58.300747",
     "status": "completed"
    },
    "tags": []
   },
   "source": [
    "## 1. Импорт Библиотек "
   ]
  },
  {
   "cell_type": "markdown",
   "id": "02b1ba32-c7a4-4cca-940c-2c26096652a5",
   "metadata": {},
   "source": [
    "Импортируйте необходимые библиотеки"
   ]
  },
  {
   "cell_type": "code",
   "execution_count": 161,
   "id": "aced3dd7",
   "metadata": {
    "_kg_hide-input": true,
    "colab": {
     "base_uri": "https://localhost:8080/",
     "height": 17
    },
    "id": "aced3dd7",
    "outputId": "8b15989a-7641-4dd8-e1cd-acc9568ed88f",
    "papermill": {
     "duration": 2.648922,
     "end_time": "2022-09-17T00:13:01.160303",
     "exception": false,
     "start_time": "2022-09-17T00:12:58.511381",
     "status": "completed"
    },
    "tags": []
   },
   "outputs": [],
   "source": [
    "import numpy as np\n",
    "import pandas as pd\n",
    "from matplotlib import pyplot as plt\n",
    "pd.set_option('display.max_columns', None) # отобразить все колонки\n",
    "\n",
    "from scipy import stats\n",
    "import warnings\n",
    "warnings.filterwarnings('ignore')"
   ]
  },
  {
   "cell_type": "markdown",
   "id": "a08aba17",
   "metadata": {
    "id": "a08aba17",
    "papermill": {
     "duration": 0.105855,
     "end_time": "2022-09-17T00:13:01.597528",
     "exception": false,
     "start_time": "2022-09-17T00:13:01.491673",
     "status": "completed"
    },
    "tags": []
   },
   "source": [
    "## 2. Данные"
   ]
  },
  {
   "cell_type": "code",
   "execution_count": 77,
   "id": "423cbac6",
   "metadata": {
    "colab": {
     "base_uri": "https://localhost:8080/",
     "height": 369
    },
    "id": "423cbac6",
    "outputId": "bef79296-7f1f-4e53-e1d6-0b349fee9c6a",
    "papermill": {
     "duration": 0.24658,
     "end_time": "2022-09-17T00:13:02.607322",
     "exception": false,
     "start_time": "2022-09-17T00:13:02.360742",
     "status": "completed"
    },
    "tags": []
   },
   "outputs": [
    {
     "data": {
      "text/html": [
       "<div>\n",
       "<style scoped>\n",
       "    .dataframe tbody tr th:only-of-type {\n",
       "        vertical-align: middle;\n",
       "    }\n",
       "\n",
       "    .dataframe tbody tr th {\n",
       "        vertical-align: top;\n",
       "    }\n",
       "\n",
       "    .dataframe thead th {\n",
       "        text-align: right;\n",
       "    }\n",
       "</style>\n",
       "<table border=\"1\" class=\"dataframe\">\n",
       "  <thead>\n",
       "    <tr style=\"text-align: right;\">\n",
       "      <th></th>\n",
       "      <th>customerID</th>\n",
       "      <th>gender</th>\n",
       "      <th>SeniorCitizen</th>\n",
       "      <th>Partner</th>\n",
       "      <th>Dependents</th>\n",
       "      <th>tenure</th>\n",
       "      <th>PhoneService</th>\n",
       "      <th>MultipleLines</th>\n",
       "      <th>InternetService</th>\n",
       "      <th>OnlineSecurity</th>\n",
       "      <th>OnlineBackup</th>\n",
       "      <th>DeviceProtection</th>\n",
       "      <th>TechSupport</th>\n",
       "      <th>StreamingTV</th>\n",
       "      <th>StreamingMovies</th>\n",
       "      <th>Contract</th>\n",
       "      <th>PaperlessBilling</th>\n",
       "      <th>PaymentMethod</th>\n",
       "      <th>MonthlyCharges</th>\n",
       "      <th>TotalCharges</th>\n",
       "      <th>Churn</th>\n",
       "    </tr>\n",
       "  </thead>\n",
       "  <tbody>\n",
       "    <tr>\n",
       "      <th>0</th>\n",
       "      <td>7590-VHVEG</td>\n",
       "      <td>Female</td>\n",
       "      <td>0</td>\n",
       "      <td>Yes</td>\n",
       "      <td>No</td>\n",
       "      <td>1</td>\n",
       "      <td>No</td>\n",
       "      <td>No phone service</td>\n",
       "      <td>DSL</td>\n",
       "      <td>No</td>\n",
       "      <td>Yes</td>\n",
       "      <td>No</td>\n",
       "      <td>No</td>\n",
       "      <td>No</td>\n",
       "      <td>No</td>\n",
       "      <td>Month-to-month</td>\n",
       "      <td>Yes</td>\n",
       "      <td>Electronic check</td>\n",
       "      <td>29.85</td>\n",
       "      <td>29.85</td>\n",
       "      <td>No</td>\n",
       "    </tr>\n",
       "    <tr>\n",
       "      <th>1</th>\n",
       "      <td>5575-GNVDE</td>\n",
       "      <td>Male</td>\n",
       "      <td>0</td>\n",
       "      <td>No</td>\n",
       "      <td>No</td>\n",
       "      <td>34</td>\n",
       "      <td>Yes</td>\n",
       "      <td>No</td>\n",
       "      <td>DSL</td>\n",
       "      <td>Yes</td>\n",
       "      <td>No</td>\n",
       "      <td>Yes</td>\n",
       "      <td>No</td>\n",
       "      <td>No</td>\n",
       "      <td>No</td>\n",
       "      <td>One year</td>\n",
       "      <td>No</td>\n",
       "      <td>Mailed check</td>\n",
       "      <td>56.95</td>\n",
       "      <td>1889.5</td>\n",
       "      <td>No</td>\n",
       "    </tr>\n",
       "    <tr>\n",
       "      <th>2</th>\n",
       "      <td>3668-QPYBK</td>\n",
       "      <td>Male</td>\n",
       "      <td>0</td>\n",
       "      <td>No</td>\n",
       "      <td>No</td>\n",
       "      <td>2</td>\n",
       "      <td>Yes</td>\n",
       "      <td>No</td>\n",
       "      <td>DSL</td>\n",
       "      <td>Yes</td>\n",
       "      <td>Yes</td>\n",
       "      <td>No</td>\n",
       "      <td>No</td>\n",
       "      <td>No</td>\n",
       "      <td>No</td>\n",
       "      <td>Month-to-month</td>\n",
       "      <td>Yes</td>\n",
       "      <td>Mailed check</td>\n",
       "      <td>53.85</td>\n",
       "      <td>108.15</td>\n",
       "      <td>Yes</td>\n",
       "    </tr>\n",
       "    <tr>\n",
       "      <th>3</th>\n",
       "      <td>7795-CFOCW</td>\n",
       "      <td>Male</td>\n",
       "      <td>0</td>\n",
       "      <td>No</td>\n",
       "      <td>No</td>\n",
       "      <td>45</td>\n",
       "      <td>No</td>\n",
       "      <td>No phone service</td>\n",
       "      <td>DSL</td>\n",
       "      <td>Yes</td>\n",
       "      <td>No</td>\n",
       "      <td>Yes</td>\n",
       "      <td>Yes</td>\n",
       "      <td>No</td>\n",
       "      <td>No</td>\n",
       "      <td>One year</td>\n",
       "      <td>No</td>\n",
       "      <td>Bank transfer (automatic)</td>\n",
       "      <td>42.30</td>\n",
       "      <td>1840.75</td>\n",
       "      <td>No</td>\n",
       "    </tr>\n",
       "    <tr>\n",
       "      <th>4</th>\n",
       "      <td>9237-HQITU</td>\n",
       "      <td>Female</td>\n",
       "      <td>0</td>\n",
       "      <td>No</td>\n",
       "      <td>No</td>\n",
       "      <td>2</td>\n",
       "      <td>Yes</td>\n",
       "      <td>No</td>\n",
       "      <td>Fiber optic</td>\n",
       "      <td>No</td>\n",
       "      <td>No</td>\n",
       "      <td>No</td>\n",
       "      <td>No</td>\n",
       "      <td>No</td>\n",
       "      <td>No</td>\n",
       "      <td>Month-to-month</td>\n",
       "      <td>Yes</td>\n",
       "      <td>Electronic check</td>\n",
       "      <td>70.70</td>\n",
       "      <td>151.65</td>\n",
       "      <td>Yes</td>\n",
       "    </tr>\n",
       "  </tbody>\n",
       "</table>\n",
       "</div>"
      ],
      "text/plain": [
       "   customerID  gender  SeniorCitizen Partner Dependents  tenure PhoneService  \\\n",
       "0  7590-VHVEG  Female              0     Yes         No       1           No   \n",
       "1  5575-GNVDE    Male              0      No         No      34          Yes   \n",
       "2  3668-QPYBK    Male              0      No         No       2          Yes   \n",
       "3  7795-CFOCW    Male              0      No         No      45           No   \n",
       "4  9237-HQITU  Female              0      No         No       2          Yes   \n",
       "\n",
       "      MultipleLines InternetService OnlineSecurity OnlineBackup  \\\n",
       "0  No phone service             DSL             No          Yes   \n",
       "1                No             DSL            Yes           No   \n",
       "2                No             DSL            Yes          Yes   \n",
       "3  No phone service             DSL            Yes           No   \n",
       "4                No     Fiber optic             No           No   \n",
       "\n",
       "  DeviceProtection TechSupport StreamingTV StreamingMovies        Contract  \\\n",
       "0               No          No          No              No  Month-to-month   \n",
       "1              Yes          No          No              No        One year   \n",
       "2               No          No          No              No  Month-to-month   \n",
       "3              Yes         Yes          No              No        One year   \n",
       "4               No          No          No              No  Month-to-month   \n",
       "\n",
       "  PaperlessBilling              PaymentMethod  MonthlyCharges TotalCharges  \\\n",
       "0              Yes           Electronic check           29.85        29.85   \n",
       "1               No               Mailed check           56.95       1889.5   \n",
       "2              Yes               Mailed check           53.85       108.15   \n",
       "3               No  Bank transfer (automatic)           42.30      1840.75   \n",
       "4              Yes           Electronic check           70.70       151.65   \n",
       "\n",
       "  Churn  \n",
       "0    No  \n",
       "1    No  \n",
       "2   Yes  \n",
       "3    No  \n",
       "4   Yes  "
      ]
     },
     "execution_count": 77,
     "metadata": {},
     "output_type": "execute_result"
    }
   ],
   "source": [
    "df = pd.read_csv(\"churn.csv\")\n",
    "df.head()"
   ]
  },
  {
   "cell_type": "markdown",
   "id": "59d8f6d7",
   "metadata": {
    "id": "59d8f6d7",
    "papermill": {
     "duration": 0.110182,
     "end_time": "2022-09-17T00:13:04.215152",
     "exception": false,
     "start_time": "2022-09-17T00:13:04.104970",
     "status": "completed"
    },
    "tags": []
   },
   "source": [
    "## 2. Описательный анализ данных"
   ]
  },
  {
   "cell_type": "markdown",
   "id": "4f3a9143-db55-4062-92c1-95bae165c967",
   "metadata": {},
   "source": [
    "Рассмотрите данные - изучите медианы, средние, дисперсии и т.д. \n",
    "\n",
    "Что можете сказать о данных? Сделайте вывод."
   ]
  },
  {
   "cell_type": "code",
   "execution_count": 78,
   "id": "ce7a7482",
   "metadata": {},
   "outputs": [
    {
     "data": {
      "text/plain": [
       "(7043, 21)"
      ]
     },
     "execution_count": 78,
     "metadata": {},
     "output_type": "execute_result"
    }
   ],
   "source": [
    "df.shape"
   ]
  },
  {
   "cell_type": "code",
   "execution_count": 79,
   "id": "afbedd5f",
   "metadata": {},
   "outputs": [
    {
     "name": "stdout",
     "output_type": "stream",
     "text": [
      "<class 'pandas.core.frame.DataFrame'>\n",
      "RangeIndex: 7043 entries, 0 to 7042\n",
      "Data columns (total 21 columns):\n",
      " #   Column            Non-Null Count  Dtype  \n",
      "---  ------            --------------  -----  \n",
      " 0   customerID        7043 non-null   object \n",
      " 1   gender            7043 non-null   object \n",
      " 2   SeniorCitizen     7043 non-null   int64  \n",
      " 3   Partner           7043 non-null   object \n",
      " 4   Dependents        7043 non-null   object \n",
      " 5   tenure            7043 non-null   int64  \n",
      " 6   PhoneService      7043 non-null   object \n",
      " 7   MultipleLines     7043 non-null   object \n",
      " 8   InternetService   7043 non-null   object \n",
      " 9   OnlineSecurity    7043 non-null   object \n",
      " 10  OnlineBackup      7043 non-null   object \n",
      " 11  DeviceProtection  7043 non-null   object \n",
      " 12  TechSupport       7043 non-null   object \n",
      " 13  StreamingTV       7043 non-null   object \n",
      " 14  StreamingMovies   7043 non-null   object \n",
      " 15  Contract          7043 non-null   object \n",
      " 16  PaperlessBilling  7043 non-null   object \n",
      " 17  PaymentMethod     7043 non-null   object \n",
      " 18  MonthlyCharges    7043 non-null   float64\n",
      " 19  TotalCharges      7043 non-null   object \n",
      " 20  Churn             7043 non-null   object \n",
      "dtypes: float64(1), int64(2), object(18)\n",
      "memory usage: 1.1+ MB\n"
     ]
    }
   ],
   "source": [
    "df.info()"
   ]
  },
  {
   "cell_type": "code",
   "execution_count": 80,
   "id": "103b2699-e4bd-46b4-a287-d4e70ad26878",
   "metadata": {},
   "outputs": [
    {
     "data": {
      "text/html": [
       "<div>\n",
       "<style scoped>\n",
       "    .dataframe tbody tr th:only-of-type {\n",
       "        vertical-align: middle;\n",
       "    }\n",
       "\n",
       "    .dataframe tbody tr th {\n",
       "        vertical-align: top;\n",
       "    }\n",
       "\n",
       "    .dataframe thead th {\n",
       "        text-align: right;\n",
       "    }\n",
       "</style>\n",
       "<table border=\"1\" class=\"dataframe\">\n",
       "  <thead>\n",
       "    <tr style=\"text-align: right;\">\n",
       "      <th></th>\n",
       "      <th>SeniorCitizen</th>\n",
       "      <th>tenure</th>\n",
       "      <th>MonthlyCharges</th>\n",
       "    </tr>\n",
       "  </thead>\n",
       "  <tbody>\n",
       "    <tr>\n",
       "      <th>count</th>\n",
       "      <td>7043.000000</td>\n",
       "      <td>7043.000000</td>\n",
       "      <td>7043.000000</td>\n",
       "    </tr>\n",
       "    <tr>\n",
       "      <th>mean</th>\n",
       "      <td>0.162147</td>\n",
       "      <td>32.371149</td>\n",
       "      <td>64.761692</td>\n",
       "    </tr>\n",
       "    <tr>\n",
       "      <th>std</th>\n",
       "      <td>0.368612</td>\n",
       "      <td>24.559481</td>\n",
       "      <td>30.090047</td>\n",
       "    </tr>\n",
       "    <tr>\n",
       "      <th>min</th>\n",
       "      <td>0.000000</td>\n",
       "      <td>0.000000</td>\n",
       "      <td>18.250000</td>\n",
       "    </tr>\n",
       "    <tr>\n",
       "      <th>25%</th>\n",
       "      <td>0.000000</td>\n",
       "      <td>9.000000</td>\n",
       "      <td>35.500000</td>\n",
       "    </tr>\n",
       "    <tr>\n",
       "      <th>50%</th>\n",
       "      <td>0.000000</td>\n",
       "      <td>29.000000</td>\n",
       "      <td>70.350000</td>\n",
       "    </tr>\n",
       "    <tr>\n",
       "      <th>75%</th>\n",
       "      <td>0.000000</td>\n",
       "      <td>55.000000</td>\n",
       "      <td>89.850000</td>\n",
       "    </tr>\n",
       "    <tr>\n",
       "      <th>max</th>\n",
       "      <td>1.000000</td>\n",
       "      <td>72.000000</td>\n",
       "      <td>118.750000</td>\n",
       "    </tr>\n",
       "  </tbody>\n",
       "</table>\n",
       "</div>"
      ],
      "text/plain": [
       "       SeniorCitizen       tenure  MonthlyCharges\n",
       "count    7043.000000  7043.000000     7043.000000\n",
       "mean        0.162147    32.371149       64.761692\n",
       "std         0.368612    24.559481       30.090047\n",
       "min         0.000000     0.000000       18.250000\n",
       "25%         0.000000     9.000000       35.500000\n",
       "50%         0.000000    29.000000       70.350000\n",
       "75%         0.000000    55.000000       89.850000\n",
       "max         1.000000    72.000000      118.750000"
      ]
     },
     "execution_count": 80,
     "metadata": {},
     "output_type": "execute_result"
    }
   ],
   "source": [
    "df.describe()"
   ]
  },
  {
   "cell_type": "markdown",
   "id": "1daff97f-7552-4abb-918f-39fdda6d078e",
   "metadata": {},
   "source": [
    "**Вывод:**\n",
    "- Всего у нас 7043 строки и 21 столбец\n",
    "- Нулевых значений нет\n",
    "- Числовой тип данных имеют столбцы `SeniorCitizen` (является ли клиент пожилым), `tenure` (количество месяцев, в течение которых клиент оставаляся в компании), `MonthlyCharges` (сумма, взимаемая с клиента ежемесячно)\n",
    "- Большинство людей не являются пожилыми\n",
    "- В среднем клиент остается в компании примерно ~29-32 месяца\n",
    "- Максимально клиент оставался в компании на 72 месяца\n",
    "- В среднем списывается сумма примерно 65-70 долларов\n",
    "- Минимум списывают 18.25 долларов, максмум - 118.75"
   ]
  },
  {
   "cell_type": "markdown",
   "id": "20dfbfdf",
   "metadata": {
    "id": "20dfbfdf",
    "papermill": {
     "duration": 0.109572,
     "end_time": "2022-09-17T00:13:04.713273",
     "exception": false,
     "start_time": "2022-09-17T00:13:04.603701",
     "status": "completed"
    },
    "tags": []
   },
   "source": [
    "### Уникальные значения для всех столбцов"
   ]
  },
  {
   "cell_type": "markdown",
   "id": "6dae3e7e-2d2d-48f4-a815-12203933284b",
   "metadata": {
    "tags": []
   },
   "source": [
    "Рассмотрите уникальные значения категориальных признаков. \n",
    "\n",
    "Сделайте вывод.\n",
    "\n",
    "**Подсказка:** можете воспользоваться методом `describe(include='object')`"
   ]
  },
  {
   "cell_type": "code",
   "execution_count": 81,
   "id": "8fdc1546-6a9b-4dc8-afdc-fca1fd637ded",
   "metadata": {},
   "outputs": [
    {
     "data": {
      "text/html": [
       "<div>\n",
       "<style scoped>\n",
       "    .dataframe tbody tr th:only-of-type {\n",
       "        vertical-align: middle;\n",
       "    }\n",
       "\n",
       "    .dataframe tbody tr th {\n",
       "        vertical-align: top;\n",
       "    }\n",
       "\n",
       "    .dataframe thead th {\n",
       "        text-align: right;\n",
       "    }\n",
       "</style>\n",
       "<table border=\"1\" class=\"dataframe\">\n",
       "  <thead>\n",
       "    <tr style=\"text-align: right;\">\n",
       "      <th></th>\n",
       "      <th>count</th>\n",
       "      <th>unique</th>\n",
       "      <th>top</th>\n",
       "      <th>freq</th>\n",
       "    </tr>\n",
       "  </thead>\n",
       "  <tbody>\n",
       "    <tr>\n",
       "      <th>customerID</th>\n",
       "      <td>7043</td>\n",
       "      <td>7043</td>\n",
       "      <td>3186-AJIEK</td>\n",
       "      <td>1</td>\n",
       "    </tr>\n",
       "    <tr>\n",
       "      <th>gender</th>\n",
       "      <td>7043</td>\n",
       "      <td>2</td>\n",
       "      <td>Male</td>\n",
       "      <td>3555</td>\n",
       "    </tr>\n",
       "    <tr>\n",
       "      <th>Partner</th>\n",
       "      <td>7043</td>\n",
       "      <td>2</td>\n",
       "      <td>No</td>\n",
       "      <td>3641</td>\n",
       "    </tr>\n",
       "    <tr>\n",
       "      <th>Dependents</th>\n",
       "      <td>7043</td>\n",
       "      <td>2</td>\n",
       "      <td>No</td>\n",
       "      <td>4933</td>\n",
       "    </tr>\n",
       "    <tr>\n",
       "      <th>PhoneService</th>\n",
       "      <td>7043</td>\n",
       "      <td>2</td>\n",
       "      <td>Yes</td>\n",
       "      <td>6361</td>\n",
       "    </tr>\n",
       "    <tr>\n",
       "      <th>MultipleLines</th>\n",
       "      <td>7043</td>\n",
       "      <td>3</td>\n",
       "      <td>No</td>\n",
       "      <td>3390</td>\n",
       "    </tr>\n",
       "    <tr>\n",
       "      <th>InternetService</th>\n",
       "      <td>7043</td>\n",
       "      <td>3</td>\n",
       "      <td>Fiber optic</td>\n",
       "      <td>3096</td>\n",
       "    </tr>\n",
       "    <tr>\n",
       "      <th>OnlineSecurity</th>\n",
       "      <td>7043</td>\n",
       "      <td>3</td>\n",
       "      <td>No</td>\n",
       "      <td>3498</td>\n",
       "    </tr>\n",
       "    <tr>\n",
       "      <th>OnlineBackup</th>\n",
       "      <td>7043</td>\n",
       "      <td>3</td>\n",
       "      <td>No</td>\n",
       "      <td>3088</td>\n",
       "    </tr>\n",
       "    <tr>\n",
       "      <th>DeviceProtection</th>\n",
       "      <td>7043</td>\n",
       "      <td>3</td>\n",
       "      <td>No</td>\n",
       "      <td>3095</td>\n",
       "    </tr>\n",
       "    <tr>\n",
       "      <th>TechSupport</th>\n",
       "      <td>7043</td>\n",
       "      <td>3</td>\n",
       "      <td>No</td>\n",
       "      <td>3473</td>\n",
       "    </tr>\n",
       "    <tr>\n",
       "      <th>StreamingTV</th>\n",
       "      <td>7043</td>\n",
       "      <td>3</td>\n",
       "      <td>No</td>\n",
       "      <td>2810</td>\n",
       "    </tr>\n",
       "    <tr>\n",
       "      <th>StreamingMovies</th>\n",
       "      <td>7043</td>\n",
       "      <td>3</td>\n",
       "      <td>No</td>\n",
       "      <td>2785</td>\n",
       "    </tr>\n",
       "    <tr>\n",
       "      <th>Contract</th>\n",
       "      <td>7043</td>\n",
       "      <td>3</td>\n",
       "      <td>Month-to-month</td>\n",
       "      <td>3875</td>\n",
       "    </tr>\n",
       "    <tr>\n",
       "      <th>PaperlessBilling</th>\n",
       "      <td>7043</td>\n",
       "      <td>2</td>\n",
       "      <td>Yes</td>\n",
       "      <td>4171</td>\n",
       "    </tr>\n",
       "    <tr>\n",
       "      <th>PaymentMethod</th>\n",
       "      <td>7043</td>\n",
       "      <td>4</td>\n",
       "      <td>Electronic check</td>\n",
       "      <td>2365</td>\n",
       "    </tr>\n",
       "    <tr>\n",
       "      <th>TotalCharges</th>\n",
       "      <td>7043</td>\n",
       "      <td>6531</td>\n",
       "      <td>20.2</td>\n",
       "      <td>11</td>\n",
       "    </tr>\n",
       "    <tr>\n",
       "      <th>Churn</th>\n",
       "      <td>7043</td>\n",
       "      <td>2</td>\n",
       "      <td>No</td>\n",
       "      <td>5174</td>\n",
       "    </tr>\n",
       "  </tbody>\n",
       "</table>\n",
       "</div>"
      ],
      "text/plain": [
       "                 count unique               top  freq\n",
       "customerID        7043   7043        3186-AJIEK     1\n",
       "gender            7043      2              Male  3555\n",
       "Partner           7043      2                No  3641\n",
       "Dependents        7043      2                No  4933\n",
       "PhoneService      7043      2               Yes  6361\n",
       "MultipleLines     7043      3                No  3390\n",
       "InternetService   7043      3       Fiber optic  3096\n",
       "OnlineSecurity    7043      3                No  3498\n",
       "OnlineBackup      7043      3                No  3088\n",
       "DeviceProtection  7043      3                No  3095\n",
       "TechSupport       7043      3                No  3473\n",
       "StreamingTV       7043      3                No  2810\n",
       "StreamingMovies   7043      3                No  2785\n",
       "Contract          7043      3    Month-to-month  3875\n",
       "PaperlessBilling  7043      2               Yes  4171\n",
       "PaymentMethod     7043      4  Electronic check  2365\n",
       "TotalCharges      7043   6531              20.2    11\n",
       "Churn             7043      2                No  5174"
      ]
     },
     "execution_count": 81,
     "metadata": {},
     "output_type": "execute_result"
    }
   ],
   "source": [
    "df.describe(include='object').T"
   ]
  },
  {
   "cell_type": "markdown",
   "id": "31dd4378-da15-45df-94a6-2e6d9466b368",
   "metadata": {},
   "source": [
    "**Вывод:**\n",
    "- Большинство признаков содержат порядковые данные, которые так или иначе содержат варианты `Yes` или `No`, а также какие-то дополнительные данные\n",
    "- Столбец `TotalCharges` (общая сумма, списанная с клиента) содержит 6531 уникальное значение из 7043 (возможно можно будет перевести в числовой тип)"
   ]
  },
  {
   "cell_type": "markdown",
   "id": "71169f8f-3bf5-498c-8844-ec8e47c232a4",
   "metadata": {
    "id": "33d1abb3",
    "papermill": {
     "duration": 0.107391,
     "end_time": "2022-09-17T00:13:03.296525",
     "exception": false,
     "start_time": "2022-09-17T00:13:03.189134",
     "status": "completed"
    },
    "tags": []
   },
   "source": [
    "## 3. Предобработка данных"
   ]
  },
  {
   "cell_type": "markdown",
   "id": "0a01fab1-c07b-46b0-a2d2-e8939670ed1d",
   "metadata": {
    "id": "8e8f7fbc",
    "papermill": {
     "duration": 0.110418,
     "end_time": "2022-09-17T00:13:05.443495",
     "exception": false,
     "start_time": "2022-09-17T00:13:05.333077",
     "status": "completed"
    },
    "tags": []
   },
   "source": [
    "### Дубликаты"
   ]
  },
  {
   "cell_type": "markdown",
   "id": "e30c5d7d-10fe-4889-9156-e89b3ac80e9f",
   "metadata": {},
   "source": [
    "Предобработайте датасет - проверьте на наличие дубликатов и удалите, если они есть."
   ]
  },
  {
   "cell_type": "code",
   "execution_count": 82,
   "id": "719cd83b-60bd-4da9-81c4-0c22893b3e47",
   "metadata": {},
   "outputs": [
    {
     "data": {
      "text/plain": [
       "np.int64(0)"
      ]
     },
     "execution_count": 82,
     "metadata": {},
     "output_type": "execute_result"
    }
   ],
   "source": [
    "df.duplicated().sum()"
   ]
  },
  {
   "cell_type": "markdown",
   "id": "04cc856d",
   "metadata": {},
   "source": [
    "Дубликатов нет"
   ]
  },
  {
   "cell_type": "markdown",
   "id": "8e8f7fbc",
   "metadata": {
    "id": "8e8f7fbc",
    "papermill": {
     "duration": 0.110418,
     "end_time": "2022-09-17T00:13:05.443495",
     "exception": false,
     "start_time": "2022-09-17T00:13:05.333077",
     "status": "completed"
    },
    "tags": []
   },
   "source": [
    "### Отсутствующие значения"
   ]
  },
  {
   "cell_type": "markdown",
   "id": "cefe6e59-bbf6-409f-bc89-299984ccf9ec",
   "metadata": {},
   "source": [
    "Пояснение к данному датасету:\n",
    "\n",
    "Не всегда в данных есть явные пропуски, которые легко индексируются средствами Pandas. К сожалению бывают проблемы с выгрузками данных, некачественными источниками, или когда данные записываются вручную - часто присутствует человеческий фактов. По мере работы с новыми данными лучше проверять на наличие таких данных, иначе из-за этого исследование может исказиться.\n",
    "\n",
    "Рассмотрим такой случай:"
   ]
  },
  {
   "cell_type": "code",
   "execution_count": 83,
   "id": "3493172e",
   "metadata": {
    "colab": {
     "base_uri": "https://localhost:8080/"
    },
    "id": "3493172e",
    "outputId": "635fe2a6-1c96-4210-a490-481404e23d8f",
    "papermill": {
     "duration": 0.127904,
     "end_time": "2022-09-17T00:13:05.681445",
     "exception": false,
     "start_time": "2022-09-17T00:13:05.553541",
     "status": "completed"
    },
    "tags": []
   },
   "outputs": [
    {
     "data": {
      "text/plain": [
       "customerID          0\n",
       "gender              0\n",
       "SeniorCitizen       0\n",
       "Partner             0\n",
       "Dependents          0\n",
       "tenure              0\n",
       "PhoneService        0\n",
       "MultipleLines       0\n",
       "InternetService     0\n",
       "OnlineSecurity      0\n",
       "OnlineBackup        0\n",
       "DeviceProtection    0\n",
       "TechSupport         0\n",
       "StreamingTV         0\n",
       "StreamingMovies     0\n",
       "Contract            0\n",
       "PaperlessBilling    0\n",
       "PaymentMethod       0\n",
       "MonthlyCharges      0\n",
       "TotalCharges        0\n",
       "Churn               0\n",
       "dtype: int64"
      ]
     },
     "execution_count": 83,
     "metadata": {},
     "output_type": "execute_result"
    }
   ],
   "source": [
    "df.isna().sum()"
   ]
  },
  {
   "cell_type": "markdown",
   "id": "9262f68f-8d27-4794-ab21-327484d502ac",
   "metadata": {},
   "source": [
    "Не видно пропусков. Но почему тогда столбец `TotalCharges` не отобразился изначально как числовой столбец?\n",
    "\n",
    "Проверим все столбцы:"
   ]
  },
  {
   "cell_type": "code",
   "execution_count": 84,
   "id": "c086249f",
   "metadata": {
    "colab": {
     "base_uri": "https://localhost:8080/",
     "height": 411
    },
    "id": "c086249f",
    "outputId": "9865e55c-5ca5-4adf-da2b-c61c490d9f8e",
    "papermill": {
     "duration": 0.212036,
     "end_time": "2022-09-17T00:13:06.005380",
     "exception": false,
     "start_time": "2022-09-17T00:13:05.793344",
     "status": "completed"
    },
    "tags": []
   },
   "outputs": [
    {
     "name": "stdout",
     "output_type": "stream",
     "text": [
      "Неявные пропуски столбца TotalCharges: 11\n"
     ]
    }
   ],
   "source": [
    "for col in df:\n",
    "    if df[col].dtype == 'object':\n",
    "        nans = df[col].apply(lambda x: len(x.strip())==0).sum()\n",
    "        if nans > 0:\n",
    "            print(f'Неявные пропуски столбца {col}:', df[col].apply(lambda x: len(x.strip())==0).sum())"
   ]
  },
  {
   "cell_type": "markdown",
   "id": "d9751428-4425-4a69-a8b9-0d8be7bdda21",
   "metadata": {},
   "source": [
    "Что мы можем сделать в таком случае?\n",
    "\n",
    "1) По этому же фильтру удалить строки с пропусками, чтобы не искажать данные\n",
    "2) Перевести тип столбца на числовой и с параметром `errors = 'coerce'` и удалить\n",
    "\n",
    "Но можно не удалять, чтобы потерять данные, а:\n",
    "\n",
    "1) Заменить значения на среднюю\n",
    "2) Поменять на другое - но только в том случае, если есть какая-то зависимость в данных.\n",
    "\n",
    "Давайте изменим тип и найдем зависимость:"
   ]
  },
  {
   "cell_type": "code",
   "execution_count": 85,
   "id": "32c7fbb7-ea06-491f-9629-525175141ed2",
   "metadata": {
    "tags": []
   },
   "outputs": [
    {
     "data": {
      "text/html": [
       "<div>\n",
       "<style scoped>\n",
       "    .dataframe tbody tr th:only-of-type {\n",
       "        vertical-align: middle;\n",
       "    }\n",
       "\n",
       "    .dataframe tbody tr th {\n",
       "        vertical-align: top;\n",
       "    }\n",
       "\n",
       "    .dataframe thead th {\n",
       "        text-align: right;\n",
       "    }\n",
       "</style>\n",
       "<table border=\"1\" class=\"dataframe\">\n",
       "  <thead>\n",
       "    <tr style=\"text-align: right;\">\n",
       "      <th></th>\n",
       "      <th>customerID</th>\n",
       "      <th>gender</th>\n",
       "      <th>SeniorCitizen</th>\n",
       "      <th>Partner</th>\n",
       "      <th>Dependents</th>\n",
       "      <th>tenure</th>\n",
       "      <th>PhoneService</th>\n",
       "      <th>MultipleLines</th>\n",
       "      <th>InternetService</th>\n",
       "      <th>OnlineSecurity</th>\n",
       "      <th>OnlineBackup</th>\n",
       "      <th>DeviceProtection</th>\n",
       "      <th>TechSupport</th>\n",
       "      <th>StreamingTV</th>\n",
       "      <th>StreamingMovies</th>\n",
       "      <th>Contract</th>\n",
       "      <th>PaperlessBilling</th>\n",
       "      <th>PaymentMethod</th>\n",
       "      <th>MonthlyCharges</th>\n",
       "      <th>TotalCharges</th>\n",
       "      <th>Churn</th>\n",
       "    </tr>\n",
       "  </thead>\n",
       "  <tbody>\n",
       "    <tr>\n",
       "      <th>488</th>\n",
       "      <td>4472-LVYGI</td>\n",
       "      <td>Female</td>\n",
       "      <td>0</td>\n",
       "      <td>Yes</td>\n",
       "      <td>Yes</td>\n",
       "      <td>0</td>\n",
       "      <td>No</td>\n",
       "      <td>No phone service</td>\n",
       "      <td>DSL</td>\n",
       "      <td>Yes</td>\n",
       "      <td>No</td>\n",
       "      <td>Yes</td>\n",
       "      <td>Yes</td>\n",
       "      <td>Yes</td>\n",
       "      <td>No</td>\n",
       "      <td>Two year</td>\n",
       "      <td>Yes</td>\n",
       "      <td>Bank transfer (automatic)</td>\n",
       "      <td>52.55</td>\n",
       "      <td>NaN</td>\n",
       "      <td>No</td>\n",
       "    </tr>\n",
       "    <tr>\n",
       "      <th>753</th>\n",
       "      <td>3115-CZMZD</td>\n",
       "      <td>Male</td>\n",
       "      <td>0</td>\n",
       "      <td>No</td>\n",
       "      <td>Yes</td>\n",
       "      <td>0</td>\n",
       "      <td>Yes</td>\n",
       "      <td>No</td>\n",
       "      <td>No</td>\n",
       "      <td>No internet service</td>\n",
       "      <td>No internet service</td>\n",
       "      <td>No internet service</td>\n",
       "      <td>No internet service</td>\n",
       "      <td>No internet service</td>\n",
       "      <td>No internet service</td>\n",
       "      <td>Two year</td>\n",
       "      <td>No</td>\n",
       "      <td>Mailed check</td>\n",
       "      <td>20.25</td>\n",
       "      <td>NaN</td>\n",
       "      <td>No</td>\n",
       "    </tr>\n",
       "    <tr>\n",
       "      <th>936</th>\n",
       "      <td>5709-LVOEQ</td>\n",
       "      <td>Female</td>\n",
       "      <td>0</td>\n",
       "      <td>Yes</td>\n",
       "      <td>Yes</td>\n",
       "      <td>0</td>\n",
       "      <td>Yes</td>\n",
       "      <td>No</td>\n",
       "      <td>DSL</td>\n",
       "      <td>Yes</td>\n",
       "      <td>Yes</td>\n",
       "      <td>Yes</td>\n",
       "      <td>No</td>\n",
       "      <td>Yes</td>\n",
       "      <td>Yes</td>\n",
       "      <td>Two year</td>\n",
       "      <td>No</td>\n",
       "      <td>Mailed check</td>\n",
       "      <td>80.85</td>\n",
       "      <td>NaN</td>\n",
       "      <td>No</td>\n",
       "    </tr>\n",
       "    <tr>\n",
       "      <th>1082</th>\n",
       "      <td>4367-NUYAO</td>\n",
       "      <td>Male</td>\n",
       "      <td>0</td>\n",
       "      <td>Yes</td>\n",
       "      <td>Yes</td>\n",
       "      <td>0</td>\n",
       "      <td>Yes</td>\n",
       "      <td>Yes</td>\n",
       "      <td>No</td>\n",
       "      <td>No internet service</td>\n",
       "      <td>No internet service</td>\n",
       "      <td>No internet service</td>\n",
       "      <td>No internet service</td>\n",
       "      <td>No internet service</td>\n",
       "      <td>No internet service</td>\n",
       "      <td>Two year</td>\n",
       "      <td>No</td>\n",
       "      <td>Mailed check</td>\n",
       "      <td>25.75</td>\n",
       "      <td>NaN</td>\n",
       "      <td>No</td>\n",
       "    </tr>\n",
       "    <tr>\n",
       "      <th>1340</th>\n",
       "      <td>1371-DWPAZ</td>\n",
       "      <td>Female</td>\n",
       "      <td>0</td>\n",
       "      <td>Yes</td>\n",
       "      <td>Yes</td>\n",
       "      <td>0</td>\n",
       "      <td>No</td>\n",
       "      <td>No phone service</td>\n",
       "      <td>DSL</td>\n",
       "      <td>Yes</td>\n",
       "      <td>Yes</td>\n",
       "      <td>Yes</td>\n",
       "      <td>Yes</td>\n",
       "      <td>Yes</td>\n",
       "      <td>No</td>\n",
       "      <td>Two year</td>\n",
       "      <td>No</td>\n",
       "      <td>Credit card (automatic)</td>\n",
       "      <td>56.05</td>\n",
       "      <td>NaN</td>\n",
       "      <td>No</td>\n",
       "    </tr>\n",
       "    <tr>\n",
       "      <th>3331</th>\n",
       "      <td>7644-OMVMY</td>\n",
       "      <td>Male</td>\n",
       "      <td>0</td>\n",
       "      <td>Yes</td>\n",
       "      <td>Yes</td>\n",
       "      <td>0</td>\n",
       "      <td>Yes</td>\n",
       "      <td>No</td>\n",
       "      <td>No</td>\n",
       "      <td>No internet service</td>\n",
       "      <td>No internet service</td>\n",
       "      <td>No internet service</td>\n",
       "      <td>No internet service</td>\n",
       "      <td>No internet service</td>\n",
       "      <td>No internet service</td>\n",
       "      <td>Two year</td>\n",
       "      <td>No</td>\n",
       "      <td>Mailed check</td>\n",
       "      <td>19.85</td>\n",
       "      <td>NaN</td>\n",
       "      <td>No</td>\n",
       "    </tr>\n",
       "    <tr>\n",
       "      <th>3826</th>\n",
       "      <td>3213-VVOLG</td>\n",
       "      <td>Male</td>\n",
       "      <td>0</td>\n",
       "      <td>Yes</td>\n",
       "      <td>Yes</td>\n",
       "      <td>0</td>\n",
       "      <td>Yes</td>\n",
       "      <td>Yes</td>\n",
       "      <td>No</td>\n",
       "      <td>No internet service</td>\n",
       "      <td>No internet service</td>\n",
       "      <td>No internet service</td>\n",
       "      <td>No internet service</td>\n",
       "      <td>No internet service</td>\n",
       "      <td>No internet service</td>\n",
       "      <td>Two year</td>\n",
       "      <td>No</td>\n",
       "      <td>Mailed check</td>\n",
       "      <td>25.35</td>\n",
       "      <td>NaN</td>\n",
       "      <td>No</td>\n",
       "    </tr>\n",
       "    <tr>\n",
       "      <th>4380</th>\n",
       "      <td>2520-SGTTA</td>\n",
       "      <td>Female</td>\n",
       "      <td>0</td>\n",
       "      <td>Yes</td>\n",
       "      <td>Yes</td>\n",
       "      <td>0</td>\n",
       "      <td>Yes</td>\n",
       "      <td>No</td>\n",
       "      <td>No</td>\n",
       "      <td>No internet service</td>\n",
       "      <td>No internet service</td>\n",
       "      <td>No internet service</td>\n",
       "      <td>No internet service</td>\n",
       "      <td>No internet service</td>\n",
       "      <td>No internet service</td>\n",
       "      <td>Two year</td>\n",
       "      <td>No</td>\n",
       "      <td>Mailed check</td>\n",
       "      <td>20.00</td>\n",
       "      <td>NaN</td>\n",
       "      <td>No</td>\n",
       "    </tr>\n",
       "    <tr>\n",
       "      <th>5218</th>\n",
       "      <td>2923-ARZLG</td>\n",
       "      <td>Male</td>\n",
       "      <td>0</td>\n",
       "      <td>Yes</td>\n",
       "      <td>Yes</td>\n",
       "      <td>0</td>\n",
       "      <td>Yes</td>\n",
       "      <td>No</td>\n",
       "      <td>No</td>\n",
       "      <td>No internet service</td>\n",
       "      <td>No internet service</td>\n",
       "      <td>No internet service</td>\n",
       "      <td>No internet service</td>\n",
       "      <td>No internet service</td>\n",
       "      <td>No internet service</td>\n",
       "      <td>One year</td>\n",
       "      <td>Yes</td>\n",
       "      <td>Mailed check</td>\n",
       "      <td>19.70</td>\n",
       "      <td>NaN</td>\n",
       "      <td>No</td>\n",
       "    </tr>\n",
       "    <tr>\n",
       "      <th>6670</th>\n",
       "      <td>4075-WKNIU</td>\n",
       "      <td>Female</td>\n",
       "      <td>0</td>\n",
       "      <td>Yes</td>\n",
       "      <td>Yes</td>\n",
       "      <td>0</td>\n",
       "      <td>Yes</td>\n",
       "      <td>Yes</td>\n",
       "      <td>DSL</td>\n",
       "      <td>No</td>\n",
       "      <td>Yes</td>\n",
       "      <td>Yes</td>\n",
       "      <td>Yes</td>\n",
       "      <td>Yes</td>\n",
       "      <td>No</td>\n",
       "      <td>Two year</td>\n",
       "      <td>No</td>\n",
       "      <td>Mailed check</td>\n",
       "      <td>73.35</td>\n",
       "      <td>NaN</td>\n",
       "      <td>No</td>\n",
       "    </tr>\n",
       "    <tr>\n",
       "      <th>6754</th>\n",
       "      <td>2775-SEFEE</td>\n",
       "      <td>Male</td>\n",
       "      <td>0</td>\n",
       "      <td>No</td>\n",
       "      <td>Yes</td>\n",
       "      <td>0</td>\n",
       "      <td>Yes</td>\n",
       "      <td>Yes</td>\n",
       "      <td>DSL</td>\n",
       "      <td>Yes</td>\n",
       "      <td>Yes</td>\n",
       "      <td>No</td>\n",
       "      <td>Yes</td>\n",
       "      <td>No</td>\n",
       "      <td>No</td>\n",
       "      <td>Two year</td>\n",
       "      <td>Yes</td>\n",
       "      <td>Bank transfer (automatic)</td>\n",
       "      <td>61.90</td>\n",
       "      <td>NaN</td>\n",
       "      <td>No</td>\n",
       "    </tr>\n",
       "  </tbody>\n",
       "</table>\n",
       "</div>"
      ],
      "text/plain": [
       "      customerID  gender  SeniorCitizen Partner Dependents  tenure  \\\n",
       "488   4472-LVYGI  Female              0     Yes        Yes       0   \n",
       "753   3115-CZMZD    Male              0      No        Yes       0   \n",
       "936   5709-LVOEQ  Female              0     Yes        Yes       0   \n",
       "1082  4367-NUYAO    Male              0     Yes        Yes       0   \n",
       "1340  1371-DWPAZ  Female              0     Yes        Yes       0   \n",
       "3331  7644-OMVMY    Male              0     Yes        Yes       0   \n",
       "3826  3213-VVOLG    Male              0     Yes        Yes       0   \n",
       "4380  2520-SGTTA  Female              0     Yes        Yes       0   \n",
       "5218  2923-ARZLG    Male              0     Yes        Yes       0   \n",
       "6670  4075-WKNIU  Female              0     Yes        Yes       0   \n",
       "6754  2775-SEFEE    Male              0      No        Yes       0   \n",
       "\n",
       "     PhoneService     MultipleLines InternetService       OnlineSecurity  \\\n",
       "488            No  No phone service             DSL                  Yes   \n",
       "753           Yes                No              No  No internet service   \n",
       "936           Yes                No             DSL                  Yes   \n",
       "1082          Yes               Yes              No  No internet service   \n",
       "1340           No  No phone service             DSL                  Yes   \n",
       "3331          Yes                No              No  No internet service   \n",
       "3826          Yes               Yes              No  No internet service   \n",
       "4380          Yes                No              No  No internet service   \n",
       "5218          Yes                No              No  No internet service   \n",
       "6670          Yes               Yes             DSL                   No   \n",
       "6754          Yes               Yes             DSL                  Yes   \n",
       "\n",
       "             OnlineBackup     DeviceProtection          TechSupport  \\\n",
       "488                    No                  Yes                  Yes   \n",
       "753   No internet service  No internet service  No internet service   \n",
       "936                   Yes                  Yes                   No   \n",
       "1082  No internet service  No internet service  No internet service   \n",
       "1340                  Yes                  Yes                  Yes   \n",
       "3331  No internet service  No internet service  No internet service   \n",
       "3826  No internet service  No internet service  No internet service   \n",
       "4380  No internet service  No internet service  No internet service   \n",
       "5218  No internet service  No internet service  No internet service   \n",
       "6670                  Yes                  Yes                  Yes   \n",
       "6754                  Yes                   No                  Yes   \n",
       "\n",
       "              StreamingTV      StreamingMovies  Contract PaperlessBilling  \\\n",
       "488                   Yes                   No  Two year              Yes   \n",
       "753   No internet service  No internet service  Two year               No   \n",
       "936                   Yes                  Yes  Two year               No   \n",
       "1082  No internet service  No internet service  Two year               No   \n",
       "1340                  Yes                   No  Two year               No   \n",
       "3331  No internet service  No internet service  Two year               No   \n",
       "3826  No internet service  No internet service  Two year               No   \n",
       "4380  No internet service  No internet service  Two year               No   \n",
       "5218  No internet service  No internet service  One year              Yes   \n",
       "6670                  Yes                   No  Two year               No   \n",
       "6754                   No                   No  Two year              Yes   \n",
       "\n",
       "                  PaymentMethod  MonthlyCharges  TotalCharges Churn  \n",
       "488   Bank transfer (automatic)           52.55           NaN    No  \n",
       "753                Mailed check           20.25           NaN    No  \n",
       "936                Mailed check           80.85           NaN    No  \n",
       "1082               Mailed check           25.75           NaN    No  \n",
       "1340    Credit card (automatic)           56.05           NaN    No  \n",
       "3331               Mailed check           19.85           NaN    No  \n",
       "3826               Mailed check           25.35           NaN    No  \n",
       "4380               Mailed check           20.00           NaN    No  \n",
       "5218               Mailed check           19.70           NaN    No  \n",
       "6670               Mailed check           73.35           NaN    No  \n",
       "6754  Bank transfer (automatic)           61.90           NaN    No  "
      ]
     },
     "execution_count": 85,
     "metadata": {},
     "output_type": "execute_result"
    }
   ],
   "source": [
    "df[\"TotalCharges\"] = pd.to_numeric(df[\"TotalCharges\"], errors = 'coerce')\n",
    "\n",
    "df[df[\"TotalCharges\"].isna()]"
   ]
  },
  {
   "cell_type": "markdown",
   "id": "2c030a1f-7848-4412-93b1-a8eecc8cbf5f",
   "metadata": {},
   "source": [
    "**Но как выглядят наши данные обычно?**"
   ]
  },
  {
   "cell_type": "code",
   "execution_count": 86,
   "id": "c5a0c8e0-8906-4a9a-b081-b718f4e11053",
   "metadata": {
    "tags": []
   },
   "outputs": [
    {
     "data": {
      "text/html": [
       "<div>\n",
       "<style scoped>\n",
       "    .dataframe tbody tr th:only-of-type {\n",
       "        vertical-align: middle;\n",
       "    }\n",
       "\n",
       "    .dataframe tbody tr th {\n",
       "        vertical-align: top;\n",
       "    }\n",
       "\n",
       "    .dataframe thead th {\n",
       "        text-align: right;\n",
       "    }\n",
       "</style>\n",
       "<table border=\"1\" class=\"dataframe\">\n",
       "  <thead>\n",
       "    <tr style=\"text-align: right;\">\n",
       "      <th></th>\n",
       "      <th>customerID</th>\n",
       "      <th>gender</th>\n",
       "      <th>SeniorCitizen</th>\n",
       "      <th>Partner</th>\n",
       "      <th>Dependents</th>\n",
       "      <th>tenure</th>\n",
       "      <th>PhoneService</th>\n",
       "      <th>MultipleLines</th>\n",
       "      <th>InternetService</th>\n",
       "      <th>OnlineSecurity</th>\n",
       "      <th>OnlineBackup</th>\n",
       "      <th>DeviceProtection</th>\n",
       "      <th>TechSupport</th>\n",
       "      <th>StreamingTV</th>\n",
       "      <th>StreamingMovies</th>\n",
       "      <th>Contract</th>\n",
       "      <th>PaperlessBilling</th>\n",
       "      <th>PaymentMethod</th>\n",
       "      <th>MonthlyCharges</th>\n",
       "      <th>TotalCharges</th>\n",
       "      <th>Churn</th>\n",
       "    </tr>\n",
       "  </thead>\n",
       "  <tbody>\n",
       "    <tr>\n",
       "      <th>5220</th>\n",
       "      <td>2282-YGNOR</td>\n",
       "      <td>Female</td>\n",
       "      <td>0</td>\n",
       "      <td>No</td>\n",
       "      <td>No</td>\n",
       "      <td>29</td>\n",
       "      <td>Yes</td>\n",
       "      <td>No</td>\n",
       "      <td>DSL</td>\n",
       "      <td>Yes</td>\n",
       "      <td>No</td>\n",
       "      <td>Yes</td>\n",
       "      <td>Yes</td>\n",
       "      <td>No</td>\n",
       "      <td>No</td>\n",
       "      <td>One year</td>\n",
       "      <td>No</td>\n",
       "      <td>Credit card (automatic)</td>\n",
       "      <td>58.00</td>\n",
       "      <td>1734.50</td>\n",
       "      <td>No</td>\n",
       "    </tr>\n",
       "    <tr>\n",
       "      <th>6201</th>\n",
       "      <td>6458-CYIDZ</td>\n",
       "      <td>Female</td>\n",
       "      <td>1</td>\n",
       "      <td>No</td>\n",
       "      <td>No</td>\n",
       "      <td>5</td>\n",
       "      <td>Yes</td>\n",
       "      <td>No</td>\n",
       "      <td>Fiber optic</td>\n",
       "      <td>Yes</td>\n",
       "      <td>Yes</td>\n",
       "      <td>No</td>\n",
       "      <td>No</td>\n",
       "      <td>No</td>\n",
       "      <td>No</td>\n",
       "      <td>Month-to-month</td>\n",
       "      <td>No</td>\n",
       "      <td>Electronic check</td>\n",
       "      <td>80.70</td>\n",
       "      <td>374.80</td>\n",
       "      <td>No</td>\n",
       "    </tr>\n",
       "    <tr>\n",
       "      <th>4806</th>\n",
       "      <td>6729-FZWSY</td>\n",
       "      <td>Male</td>\n",
       "      <td>0</td>\n",
       "      <td>No</td>\n",
       "      <td>No</td>\n",
       "      <td>67</td>\n",
       "      <td>Yes</td>\n",
       "      <td>No</td>\n",
       "      <td>No</td>\n",
       "      <td>No internet service</td>\n",
       "      <td>No internet service</td>\n",
       "      <td>No internet service</td>\n",
       "      <td>No internet service</td>\n",
       "      <td>No internet service</td>\n",
       "      <td>No internet service</td>\n",
       "      <td>One year</td>\n",
       "      <td>Yes</td>\n",
       "      <td>Mailed check</td>\n",
       "      <td>19.45</td>\n",
       "      <td>1195.95</td>\n",
       "      <td>No</td>\n",
       "    </tr>\n",
       "    <tr>\n",
       "      <th>1747</th>\n",
       "      <td>3198-VELRD</td>\n",
       "      <td>Female</td>\n",
       "      <td>0</td>\n",
       "      <td>Yes</td>\n",
       "      <td>Yes</td>\n",
       "      <td>3</td>\n",
       "      <td>Yes</td>\n",
       "      <td>Yes</td>\n",
       "      <td>Fiber optic</td>\n",
       "      <td>No</td>\n",
       "      <td>No</td>\n",
       "      <td>No</td>\n",
       "      <td>No</td>\n",
       "      <td>No</td>\n",
       "      <td>Yes</td>\n",
       "      <td>Month-to-month</td>\n",
       "      <td>Yes</td>\n",
       "      <td>Bank transfer (automatic)</td>\n",
       "      <td>84.75</td>\n",
       "      <td>264.85</td>\n",
       "      <td>Yes</td>\n",
       "    </tr>\n",
       "    <tr>\n",
       "      <th>5829</th>\n",
       "      <td>6933-VLYFX</td>\n",
       "      <td>Male</td>\n",
       "      <td>0</td>\n",
       "      <td>Yes</td>\n",
       "      <td>Yes</td>\n",
       "      <td>31</td>\n",
       "      <td>No</td>\n",
       "      <td>No phone service</td>\n",
       "      <td>DSL</td>\n",
       "      <td>Yes</td>\n",
       "      <td>No</td>\n",
       "      <td>Yes</td>\n",
       "      <td>Yes</td>\n",
       "      <td>Yes</td>\n",
       "      <td>Yes</td>\n",
       "      <td>One year</td>\n",
       "      <td>No</td>\n",
       "      <td>Electronic check</td>\n",
       "      <td>59.95</td>\n",
       "      <td>1848.80</td>\n",
       "      <td>No</td>\n",
       "    </tr>\n",
       "  </tbody>\n",
       "</table>\n",
       "</div>"
      ],
      "text/plain": [
       "      customerID  gender  SeniorCitizen Partner Dependents  tenure  \\\n",
       "5220  2282-YGNOR  Female              0      No         No      29   \n",
       "6201  6458-CYIDZ  Female              1      No         No       5   \n",
       "4806  6729-FZWSY    Male              0      No         No      67   \n",
       "1747  3198-VELRD  Female              0     Yes        Yes       3   \n",
       "5829  6933-VLYFX    Male              0     Yes        Yes      31   \n",
       "\n",
       "     PhoneService     MultipleLines InternetService       OnlineSecurity  \\\n",
       "5220          Yes                No             DSL                  Yes   \n",
       "6201          Yes                No     Fiber optic                  Yes   \n",
       "4806          Yes                No              No  No internet service   \n",
       "1747          Yes               Yes     Fiber optic                   No   \n",
       "5829           No  No phone service             DSL                  Yes   \n",
       "\n",
       "             OnlineBackup     DeviceProtection          TechSupport  \\\n",
       "5220                   No                  Yes                  Yes   \n",
       "6201                  Yes                   No                   No   \n",
       "4806  No internet service  No internet service  No internet service   \n",
       "1747                   No                   No                   No   \n",
       "5829                   No                  Yes                  Yes   \n",
       "\n",
       "              StreamingTV      StreamingMovies        Contract  \\\n",
       "5220                   No                   No        One year   \n",
       "6201                   No                   No  Month-to-month   \n",
       "4806  No internet service  No internet service        One year   \n",
       "1747                   No                  Yes  Month-to-month   \n",
       "5829                  Yes                  Yes        One year   \n",
       "\n",
       "     PaperlessBilling              PaymentMethod  MonthlyCharges  \\\n",
       "5220               No    Credit card (automatic)           58.00   \n",
       "6201               No           Electronic check           80.70   \n",
       "4806              Yes               Mailed check           19.45   \n",
       "1747              Yes  Bank transfer (automatic)           84.75   \n",
       "5829               No           Electronic check           59.95   \n",
       "\n",
       "      TotalCharges Churn  \n",
       "5220       1734.50    No  \n",
       "6201        374.80    No  \n",
       "4806       1195.95    No  \n",
       "1747        264.85   Yes  \n",
       "5829       1848.80    No  "
      ]
     },
     "execution_count": 86,
     "metadata": {},
     "output_type": "execute_result"
    }
   ],
   "source": [
    "df.sample(5)"
   ]
  },
  {
   "cell_type": "markdown",
   "id": "089c43d2-f7e8-4494-8f29-0419d0e4d193",
   "metadata": {},
   "source": [
    "**Ничего не заметили?**\n",
    "\n",
    "Может общая сумма, списанная с клиента, равна сумме, взимаемой с клиента ежемесячно умноженное на количество времени?\n",
    "\n",
    "Давайте посмострим."
   ]
  },
  {
   "cell_type": "code",
   "execution_count": 87,
   "id": "b5694487-db1c-4cf6-b543-af9e6a120970",
   "metadata": {},
   "outputs": [
    {
     "data": {
      "text/html": [
       "<div>\n",
       "<style scoped>\n",
       "    .dataframe tbody tr th:only-of-type {\n",
       "        vertical-align: middle;\n",
       "    }\n",
       "\n",
       "    .dataframe tbody tr th {\n",
       "        vertical-align: top;\n",
       "    }\n",
       "\n",
       "    .dataframe thead th {\n",
       "        text-align: right;\n",
       "    }\n",
       "</style>\n",
       "<table border=\"1\" class=\"dataframe\">\n",
       "  <thead>\n",
       "    <tr style=\"text-align: right;\">\n",
       "      <th></th>\n",
       "      <th>customerID</th>\n",
       "      <th>gender</th>\n",
       "      <th>SeniorCitizen</th>\n",
       "      <th>Partner</th>\n",
       "      <th>Dependents</th>\n",
       "      <th>tenure</th>\n",
       "      <th>PhoneService</th>\n",
       "      <th>MultipleLines</th>\n",
       "      <th>InternetService</th>\n",
       "      <th>OnlineSecurity</th>\n",
       "      <th>OnlineBackup</th>\n",
       "      <th>DeviceProtection</th>\n",
       "      <th>TechSupport</th>\n",
       "      <th>StreamingTV</th>\n",
       "      <th>StreamingMovies</th>\n",
       "      <th>Contract</th>\n",
       "      <th>PaperlessBilling</th>\n",
       "      <th>PaymentMethod</th>\n",
       "      <th>MonthlyCharges</th>\n",
       "      <th>TotalCharges</th>\n",
       "      <th>Churn</th>\n",
       "    </tr>\n",
       "  </thead>\n",
       "  <tbody>\n",
       "    <tr>\n",
       "      <th>0</th>\n",
       "      <td>7590-VHVEG</td>\n",
       "      <td>Female</td>\n",
       "      <td>0</td>\n",
       "      <td>Yes</td>\n",
       "      <td>No</td>\n",
       "      <td>1</td>\n",
       "      <td>No</td>\n",
       "      <td>No phone service</td>\n",
       "      <td>DSL</td>\n",
       "      <td>No</td>\n",
       "      <td>Yes</td>\n",
       "      <td>No</td>\n",
       "      <td>No</td>\n",
       "      <td>No</td>\n",
       "      <td>No</td>\n",
       "      <td>Month-to-month</td>\n",
       "      <td>Yes</td>\n",
       "      <td>Electronic check</td>\n",
       "      <td>29.85</td>\n",
       "      <td>29.85</td>\n",
       "      <td>No</td>\n",
       "    </tr>\n",
       "    <tr>\n",
       "      <th>20</th>\n",
       "      <td>8779-QRDMV</td>\n",
       "      <td>Male</td>\n",
       "      <td>1</td>\n",
       "      <td>No</td>\n",
       "      <td>No</td>\n",
       "      <td>1</td>\n",
       "      <td>No</td>\n",
       "      <td>No phone service</td>\n",
       "      <td>DSL</td>\n",
       "      <td>No</td>\n",
       "      <td>No</td>\n",
       "      <td>Yes</td>\n",
       "      <td>No</td>\n",
       "      <td>No</td>\n",
       "      <td>Yes</td>\n",
       "      <td>Month-to-month</td>\n",
       "      <td>Yes</td>\n",
       "      <td>Electronic check</td>\n",
       "      <td>39.65</td>\n",
       "      <td>39.65</td>\n",
       "      <td>Yes</td>\n",
       "    </tr>\n",
       "    <tr>\n",
       "      <th>22</th>\n",
       "      <td>1066-JKSGK</td>\n",
       "      <td>Male</td>\n",
       "      <td>0</td>\n",
       "      <td>No</td>\n",
       "      <td>No</td>\n",
       "      <td>1</td>\n",
       "      <td>Yes</td>\n",
       "      <td>No</td>\n",
       "      <td>No</td>\n",
       "      <td>No internet service</td>\n",
       "      <td>No internet service</td>\n",
       "      <td>No internet service</td>\n",
       "      <td>No internet service</td>\n",
       "      <td>No internet service</td>\n",
       "      <td>No internet service</td>\n",
       "      <td>Month-to-month</td>\n",
       "      <td>No</td>\n",
       "      <td>Mailed check</td>\n",
       "      <td>20.15</td>\n",
       "      <td>20.15</td>\n",
       "      <td>Yes</td>\n",
       "    </tr>\n",
       "    <tr>\n",
       "      <th>27</th>\n",
       "      <td>8665-UTDHZ</td>\n",
       "      <td>Male</td>\n",
       "      <td>0</td>\n",
       "      <td>Yes</td>\n",
       "      <td>Yes</td>\n",
       "      <td>1</td>\n",
       "      <td>No</td>\n",
       "      <td>No phone service</td>\n",
       "      <td>DSL</td>\n",
       "      <td>No</td>\n",
       "      <td>Yes</td>\n",
       "      <td>No</td>\n",
       "      <td>No</td>\n",
       "      <td>No</td>\n",
       "      <td>No</td>\n",
       "      <td>Month-to-month</td>\n",
       "      <td>No</td>\n",
       "      <td>Electronic check</td>\n",
       "      <td>30.20</td>\n",
       "      <td>30.20</td>\n",
       "      <td>Yes</td>\n",
       "    </tr>\n",
       "    <tr>\n",
       "      <th>33</th>\n",
       "      <td>7310-EGVHZ</td>\n",
       "      <td>Male</td>\n",
       "      <td>0</td>\n",
       "      <td>No</td>\n",
       "      <td>No</td>\n",
       "      <td>1</td>\n",
       "      <td>Yes</td>\n",
       "      <td>No</td>\n",
       "      <td>No</td>\n",
       "      <td>No internet service</td>\n",
       "      <td>No internet service</td>\n",
       "      <td>No internet service</td>\n",
       "      <td>No internet service</td>\n",
       "      <td>No internet service</td>\n",
       "      <td>No internet service</td>\n",
       "      <td>Month-to-month</td>\n",
       "      <td>No</td>\n",
       "      <td>Bank transfer (automatic)</td>\n",
       "      <td>20.20</td>\n",
       "      <td>20.20</td>\n",
       "      <td>No</td>\n",
       "    </tr>\n",
       "  </tbody>\n",
       "</table>\n",
       "</div>"
      ],
      "text/plain": [
       "    customerID  gender  SeniorCitizen Partner Dependents  tenure PhoneService  \\\n",
       "0   7590-VHVEG  Female              0     Yes         No       1           No   \n",
       "20  8779-QRDMV    Male              1      No         No       1           No   \n",
       "22  1066-JKSGK    Male              0      No         No       1          Yes   \n",
       "27  8665-UTDHZ    Male              0     Yes        Yes       1           No   \n",
       "33  7310-EGVHZ    Male              0      No         No       1          Yes   \n",
       "\n",
       "       MultipleLines InternetService       OnlineSecurity  \\\n",
       "0   No phone service             DSL                   No   \n",
       "20  No phone service             DSL                   No   \n",
       "22                No              No  No internet service   \n",
       "27  No phone service             DSL                   No   \n",
       "33                No              No  No internet service   \n",
       "\n",
       "           OnlineBackup     DeviceProtection          TechSupport  \\\n",
       "0                   Yes                   No                   No   \n",
       "20                   No                  Yes                   No   \n",
       "22  No internet service  No internet service  No internet service   \n",
       "27                  Yes                   No                   No   \n",
       "33  No internet service  No internet service  No internet service   \n",
       "\n",
       "            StreamingTV      StreamingMovies        Contract PaperlessBilling  \\\n",
       "0                    No                   No  Month-to-month              Yes   \n",
       "20                   No                  Yes  Month-to-month              Yes   \n",
       "22  No internet service  No internet service  Month-to-month               No   \n",
       "27                   No                   No  Month-to-month               No   \n",
       "33  No internet service  No internet service  Month-to-month               No   \n",
       "\n",
       "                PaymentMethod  MonthlyCharges  TotalCharges Churn  \n",
       "0            Electronic check           29.85         29.85    No  \n",
       "20           Electronic check           39.65         39.65   Yes  \n",
       "22               Mailed check           20.15         20.15   Yes  \n",
       "27           Electronic check           30.20         30.20   Yes  \n",
       "33  Bank transfer (automatic)           20.20         20.20    No  "
      ]
     },
     "execution_count": 87,
     "metadata": {},
     "output_type": "execute_result"
    }
   ],
   "source": [
    "df[(df['TotalCharges'] / df['MonthlyCharges']) == df['tenure']].head()"
   ]
  },
  {
   "cell_type": "markdown",
   "id": "afe1aca5-52c4-4ab3-80f4-1f17eb898235",
   "metadata": {},
   "source": [
    "Нашей гипотезе есть место быть.\n",
    "\n",
    "Но давайте проверим:"
   ]
  },
  {
   "cell_type": "code",
   "execution_count": 88,
   "id": "ad75ea07-ed0c-435a-9a6c-432989d02a5f",
   "metadata": {
    "tags": []
   },
   "outputs": [
    {
     "name": "stdout",
     "output_type": "stream",
     "text": [
      "Количество совпадений по нашей теории:\n",
      "614\n",
      "Количество различий:\n",
      "6429\n"
     ]
    }
   ],
   "source": [
    "print('Количество совпадений по нашей теории:')\n",
    "print(df[(df['TotalCharges'] / df['MonthlyCharges']) == df['tenure']]['customerID'].count())\n",
    "print('Количество различий:')\n",
    "print(df[(df['TotalCharges'] / df['MonthlyCharges']) != df['tenure']]['customerID'].count())"
   ]
  },
  {
   "cell_type": "markdown",
   "id": "1fb0adf1-221a-4d6e-a17c-307bbad7cba4",
   "metadata": {},
   "source": [
    "**Как видно**, что различий очень много, относительно одинаковых значений.\n",
    "\n",
    "Но, а если мы проверим наше различие в долях или процентах? Проверяем:"
   ]
  },
  {
   "cell_type": "code",
   "execution_count": 89,
   "id": "66a4d7b9-92ae-48cb-ad59-a51373f2a4db",
   "metadata": {
    "tags": []
   },
   "outputs": [
    {
     "name": "stdout",
     "output_type": "stream",
     "text": [
      "В среднем new_total отличается от TotalCharges на 0.2311%\n"
     ]
    }
   ],
   "source": [
    "# cоздаем series и считаем TotalCharges вручную\n",
    "new_total = df['MonthlyCharges'] * df['tenure']\n",
    "\n",
    "# посчитаем во сколько раз в среднем отличается наш new_total и TotalCharges - в процентном отношении\n",
    "perc = abs(100 - (new_total / df['TotalCharges']).mean() * 100)\n",
    "\n",
    "print(f'В среднем new_total отличается от TotalCharges на {perc:.4f}%')"
   ]
  },
  {
   "cell_type": "markdown",
   "id": "4c46ddbc-cd66-44f8-a7dc-4ad96ec3e523",
   "metadata": {},
   "source": [
    "Как видно, они различаются незначительно (меньше `1%`), от чего мы можем предположить, что `TotalCharges` = `MonthlyCharges` * `время`. Скорее всего такие маленькие различия связаны с тем, что `tenure` округлялся.\n",
    "\n",
    "В данном датасете указано только количество месяцев, без уточнения времени (до дней), потому будет грубо просто перемножить один столбец на другой. Но пропуски мы уже можем заменить на `0`, так как в тех строках `tenure` == 0. Такое небольшое исследование было сделано для того, чтобы заполнить наши пропуски нужным числом.\n",
    "\n",
    "Заменим пропуски на нужное нам число."
   ]
  },
  {
   "cell_type": "code",
   "execution_count": 90,
   "id": "085bfa2f-2800-4814-9877-9fccf7c5994c",
   "metadata": {
    "tags": []
   },
   "outputs": [],
   "source": [
    "df['TotalCharges'].fillna(0, inplace=True)"
   ]
  },
  {
   "cell_type": "markdown",
   "id": "pt3BGKLdPcn9",
   "metadata": {
    "id": "pt3BGKLdPcn9"
   },
   "source": [
    "### Изменение типа данных"
   ]
  },
  {
   "cell_type": "markdown",
   "id": "12573416-214f-48ef-9a39-3d007253cf7a",
   "metadata": {},
   "source": [
    "Рассмотрев все данные, замените типы на нужные (при необходимости):\n",
    "\n",
    "- Если есть числа - на `int` или `float`\n",
    "- Если категории - можно оставить `object`"
   ]
  },
  {
   "cell_type": "code",
   "execution_count": 91,
   "id": "8099b599-1a04-437b-a2c9-ee834eee2809",
   "metadata": {},
   "outputs": [
    {
     "data": {
      "text/html": [
       "<div>\n",
       "<style scoped>\n",
       "    .dataframe tbody tr th:only-of-type {\n",
       "        vertical-align: middle;\n",
       "    }\n",
       "\n",
       "    .dataframe tbody tr th {\n",
       "        vertical-align: top;\n",
       "    }\n",
       "\n",
       "    .dataframe thead th {\n",
       "        text-align: right;\n",
       "    }\n",
       "</style>\n",
       "<table border=\"1\" class=\"dataframe\">\n",
       "  <thead>\n",
       "    <tr style=\"text-align: right;\">\n",
       "      <th></th>\n",
       "      <th>customerID</th>\n",
       "      <th>gender</th>\n",
       "      <th>SeniorCitizen</th>\n",
       "      <th>Partner</th>\n",
       "      <th>Dependents</th>\n",
       "      <th>tenure</th>\n",
       "      <th>PhoneService</th>\n",
       "      <th>MultipleLines</th>\n",
       "      <th>InternetService</th>\n",
       "      <th>OnlineSecurity</th>\n",
       "      <th>OnlineBackup</th>\n",
       "      <th>DeviceProtection</th>\n",
       "      <th>TechSupport</th>\n",
       "      <th>StreamingTV</th>\n",
       "      <th>StreamingMovies</th>\n",
       "      <th>Contract</th>\n",
       "      <th>PaperlessBilling</th>\n",
       "      <th>PaymentMethod</th>\n",
       "      <th>MonthlyCharges</th>\n",
       "      <th>TotalCharges</th>\n",
       "      <th>Churn</th>\n",
       "    </tr>\n",
       "  </thead>\n",
       "  <tbody>\n",
       "    <tr>\n",
       "      <th>3886</th>\n",
       "      <td>3786-WOVKF</td>\n",
       "      <td>Female</td>\n",
       "      <td>1</td>\n",
       "      <td>Yes</td>\n",
       "      <td>No</td>\n",
       "      <td>72</td>\n",
       "      <td>Yes</td>\n",
       "      <td>Yes</td>\n",
       "      <td>Fiber optic</td>\n",
       "      <td>Yes</td>\n",
       "      <td>Yes</td>\n",
       "      <td>No</td>\n",
       "      <td>No</td>\n",
       "      <td>Yes</td>\n",
       "      <td>Yes</td>\n",
       "      <td>One year</td>\n",
       "      <td>Yes</td>\n",
       "      <td>Bank transfer (automatic)</td>\n",
       "      <td>106.85</td>\n",
       "      <td>7677.40</td>\n",
       "      <td>No</td>\n",
       "    </tr>\n",
       "    <tr>\n",
       "      <th>380</th>\n",
       "      <td>5651-CRHKQ</td>\n",
       "      <td>Female</td>\n",
       "      <td>0</td>\n",
       "      <td>Yes</td>\n",
       "      <td>No</td>\n",
       "      <td>41</td>\n",
       "      <td>Yes</td>\n",
       "      <td>No</td>\n",
       "      <td>Fiber optic</td>\n",
       "      <td>No</td>\n",
       "      <td>Yes</td>\n",
       "      <td>Yes</td>\n",
       "      <td>Yes</td>\n",
       "      <td>No</td>\n",
       "      <td>No</td>\n",
       "      <td>One year</td>\n",
       "      <td>Yes</td>\n",
       "      <td>Bank transfer (automatic)</td>\n",
       "      <td>86.20</td>\n",
       "      <td>3339.05</td>\n",
       "      <td>No</td>\n",
       "    </tr>\n",
       "    <tr>\n",
       "      <th>5039</th>\n",
       "      <td>4713-LZDRV</td>\n",
       "      <td>Female</td>\n",
       "      <td>1</td>\n",
       "      <td>No</td>\n",
       "      <td>No</td>\n",
       "      <td>2</td>\n",
       "      <td>Yes</td>\n",
       "      <td>No</td>\n",
       "      <td>Fiber optic</td>\n",
       "      <td>No</td>\n",
       "      <td>No</td>\n",
       "      <td>No</td>\n",
       "      <td>No</td>\n",
       "      <td>No</td>\n",
       "      <td>Yes</td>\n",
       "      <td>Month-to-month</td>\n",
       "      <td>Yes</td>\n",
       "      <td>Electronic check</td>\n",
       "      <td>79.60</td>\n",
       "      <td>195.05</td>\n",
       "      <td>Yes</td>\n",
       "    </tr>\n",
       "    <tr>\n",
       "      <th>949</th>\n",
       "      <td>6169-PPETC</td>\n",
       "      <td>Male</td>\n",
       "      <td>0</td>\n",
       "      <td>Yes</td>\n",
       "      <td>Yes</td>\n",
       "      <td>35</td>\n",
       "      <td>Yes</td>\n",
       "      <td>No</td>\n",
       "      <td>No</td>\n",
       "      <td>No internet service</td>\n",
       "      <td>No internet service</td>\n",
       "      <td>No internet service</td>\n",
       "      <td>No internet service</td>\n",
       "      <td>No internet service</td>\n",
       "      <td>No internet service</td>\n",
       "      <td>Two year</td>\n",
       "      <td>No</td>\n",
       "      <td>Bank transfer (automatic)</td>\n",
       "      <td>20.50</td>\n",
       "      <td>759.35</td>\n",
       "      <td>No</td>\n",
       "    </tr>\n",
       "    <tr>\n",
       "      <th>3522</th>\n",
       "      <td>0969-RGKCU</td>\n",
       "      <td>Male</td>\n",
       "      <td>0</td>\n",
       "      <td>Yes</td>\n",
       "      <td>Yes</td>\n",
       "      <td>37</td>\n",
       "      <td>Yes</td>\n",
       "      <td>No</td>\n",
       "      <td>No</td>\n",
       "      <td>No internet service</td>\n",
       "      <td>No internet service</td>\n",
       "      <td>No internet service</td>\n",
       "      <td>No internet service</td>\n",
       "      <td>No internet service</td>\n",
       "      <td>No internet service</td>\n",
       "      <td>One year</td>\n",
       "      <td>No</td>\n",
       "      <td>Credit card (automatic)</td>\n",
       "      <td>19.80</td>\n",
       "      <td>677.05</td>\n",
       "      <td>No</td>\n",
       "    </tr>\n",
       "  </tbody>\n",
       "</table>\n",
       "</div>"
      ],
      "text/plain": [
       "      customerID  gender  SeniorCitizen Partner Dependents  tenure  \\\n",
       "3886  3786-WOVKF  Female              1     Yes         No      72   \n",
       "380   5651-CRHKQ  Female              0     Yes         No      41   \n",
       "5039  4713-LZDRV  Female              1      No         No       2   \n",
       "949   6169-PPETC    Male              0     Yes        Yes      35   \n",
       "3522  0969-RGKCU    Male              0     Yes        Yes      37   \n",
       "\n",
       "     PhoneService MultipleLines InternetService       OnlineSecurity  \\\n",
       "3886          Yes           Yes     Fiber optic                  Yes   \n",
       "380           Yes            No     Fiber optic                   No   \n",
       "5039          Yes            No     Fiber optic                   No   \n",
       "949           Yes            No              No  No internet service   \n",
       "3522          Yes            No              No  No internet service   \n",
       "\n",
       "             OnlineBackup     DeviceProtection          TechSupport  \\\n",
       "3886                  Yes                   No                   No   \n",
       "380                   Yes                  Yes                  Yes   \n",
       "5039                   No                   No                   No   \n",
       "949   No internet service  No internet service  No internet service   \n",
       "3522  No internet service  No internet service  No internet service   \n",
       "\n",
       "              StreamingTV      StreamingMovies        Contract  \\\n",
       "3886                  Yes                  Yes        One year   \n",
       "380                    No                   No        One year   \n",
       "5039                   No                  Yes  Month-to-month   \n",
       "949   No internet service  No internet service        Two year   \n",
       "3522  No internet service  No internet service        One year   \n",
       "\n",
       "     PaperlessBilling              PaymentMethod  MonthlyCharges  \\\n",
       "3886              Yes  Bank transfer (automatic)          106.85   \n",
       "380               Yes  Bank transfer (automatic)           86.20   \n",
       "5039              Yes           Electronic check           79.60   \n",
       "949                No  Bank transfer (automatic)           20.50   \n",
       "3522               No    Credit card (automatic)           19.80   \n",
       "\n",
       "      TotalCharges Churn  \n",
       "3886       7677.40    No  \n",
       "380        3339.05    No  \n",
       "5039        195.05   Yes  \n",
       "949         759.35    No  \n",
       "3522        677.05    No  "
      ]
     },
     "execution_count": 91,
     "metadata": {},
     "output_type": "execute_result"
    }
   ],
   "source": [
    "df.sample(5)"
   ]
  },
  {
   "cell_type": "code",
   "execution_count": 92,
   "id": "4c95c571",
   "metadata": {},
   "outputs": [
    {
     "name": "stdout",
     "output_type": "stream",
     "text": [
      "<class 'pandas.core.frame.DataFrame'>\n",
      "RangeIndex: 7043 entries, 0 to 7042\n",
      "Data columns (total 21 columns):\n",
      " #   Column            Non-Null Count  Dtype  \n",
      "---  ------            --------------  -----  \n",
      " 0   customerID        7043 non-null   object \n",
      " 1   gender            7043 non-null   object \n",
      " 2   SeniorCitizen     7043 non-null   int64  \n",
      " 3   Partner           7043 non-null   object \n",
      " 4   Dependents        7043 non-null   object \n",
      " 5   tenure            7043 non-null   int64  \n",
      " 6   PhoneService      7043 non-null   object \n",
      " 7   MultipleLines     7043 non-null   object \n",
      " 8   InternetService   7043 non-null   object \n",
      " 9   OnlineSecurity    7043 non-null   object \n",
      " 10  OnlineBackup      7043 non-null   object \n",
      " 11  DeviceProtection  7043 non-null   object \n",
      " 12  TechSupport       7043 non-null   object \n",
      " 13  StreamingTV       7043 non-null   object \n",
      " 14  StreamingMovies   7043 non-null   object \n",
      " 15  Contract          7043 non-null   object \n",
      " 16  PaperlessBilling  7043 non-null   object \n",
      " 17  PaymentMethod     7043 non-null   object \n",
      " 18  MonthlyCharges    7043 non-null   float64\n",
      " 19  TotalCharges      7043 non-null   float64\n",
      " 20  Churn             7043 non-null   object \n",
      "dtypes: float64(2), int64(2), object(17)\n",
      "memory usage: 1.1+ MB\n"
     ]
    }
   ],
   "source": [
    "df.info()"
   ]
  },
  {
   "cell_type": "markdown",
   "id": "6e2ca993-d92d-4ea3-bca5-6408708f6e83",
   "metadata": {},
   "source": [
    "**Вывод:**\n",
    "- Тут данные не требуют преобразований"
   ]
  },
  {
   "cell_type": "markdown",
   "id": "84339281",
   "metadata": {
    "id": "84339281",
    "papermill": {
     "duration": 0.135596,
     "end_time": "2022-09-17T00:13:12.914231",
     "exception": false,
     "start_time": "2022-09-17T00:13:12.778635",
     "status": "completed"
    },
    "tags": []
   },
   "source": [
    "# 4 Проверка гипотез"
   ]
  },
  {
   "cell_type": "markdown",
   "id": "a6d6cc55-2a27-45ac-9f63-6ba92410d0ae",
   "metadata": {},
   "source": [
    "Задание: сравнить сравнить две выборки - `Churn='No'` и `Churn='Yes'` \n",
    "\n",
    "Гипотеза - среднее количество месяцев, в течение которых клиент оставался в компании, отличается между двумя выборками."
   ]
  },
  {
   "cell_type": "code",
   "execution_count": 93,
   "id": "a0d13764-53ad-4218-b614-c3ca5fb40ad2",
   "metadata": {},
   "outputs": [],
   "source": [
    "tenure_churn_yes = df.loc[df['Churn'] == 'Yes', 'tenure']\n",
    "tenure_churn_no = df.loc[df['Churn'] == 'No', 'tenure']"
   ]
  },
  {
   "cell_type": "code",
   "execution_count": 94,
   "id": "5e073b9e",
   "metadata": {},
   "outputs": [
    {
     "name": "stdout",
     "output_type": "stream",
     "text": [
      "pvalue = 0.00000. Выборки НЕ равны\n"
     ]
    }
   ],
   "source": [
    "alpha = .05\n",
    "\n",
    "_, pvalue = stats.ttest_ind(tenure_churn_no, tenure_churn_yes)\n",
    "\n",
    "if pvalue < alpha:\n",
    "    print(f'pvalue = {pvalue:.5f}. Выборки НЕ равны')\n",
    "else:\n",
    "    print(f'pvalue = {pvalue:.5f}. Выборки равны')"
   ]
  },
  {
   "cell_type": "markdown",
   "id": "66691f06-afde-4300-99f9-a4c781878d68",
   "metadata": {},
   "source": [
    "**Вывод:**\n",
    "- Среднее количество месяцев отличается между выборками"
   ]
  },
  {
   "cell_type": "markdown",
   "id": "182612f7",
   "metadata": {
    "id": "182612f7",
    "papermill": {
     "duration": 0.135397,
     "end_time": "2022-09-17T00:13:13.186292",
     "exception": false,
     "start_time": "2022-09-17T00:13:13.050895",
     "status": "completed"
    },
    "tags": []
   },
   "source": [
    "## 5 Статистический анализ на норму"
   ]
  },
  {
   "cell_type": "markdown",
   "id": "c9cdddbd-896d-48af-9b88-662204560cb7",
   "metadata": {},
   "source": [
    "Задание: выберите числовые признаки и проведите анализ - соответсвуют ли распредения нормальному?"
   ]
  },
  {
   "cell_type": "code",
   "execution_count": 95,
   "id": "7cf1ce3c-4ee0-4a63-a3fc-a0ef35e759f6",
   "metadata": {},
   "outputs": [
    {
     "name": "stdout",
     "output_type": "stream",
     "text": [
      "<class 'pandas.core.frame.DataFrame'>\n",
      "RangeIndex: 7043 entries, 0 to 7042\n",
      "Data columns (total 21 columns):\n",
      " #   Column            Non-Null Count  Dtype  \n",
      "---  ------            --------------  -----  \n",
      " 0   customerID        7043 non-null   object \n",
      " 1   gender            7043 non-null   object \n",
      " 2   SeniorCitizen     7043 non-null   int64  \n",
      " 3   Partner           7043 non-null   object \n",
      " 4   Dependents        7043 non-null   object \n",
      " 5   tenure            7043 non-null   int64  \n",
      " 6   PhoneService      7043 non-null   object \n",
      " 7   MultipleLines     7043 non-null   object \n",
      " 8   InternetService   7043 non-null   object \n",
      " 9   OnlineSecurity    7043 non-null   object \n",
      " 10  OnlineBackup      7043 non-null   object \n",
      " 11  DeviceProtection  7043 non-null   object \n",
      " 12  TechSupport       7043 non-null   object \n",
      " 13  StreamingTV       7043 non-null   object \n",
      " 14  StreamingMovies   7043 non-null   object \n",
      " 15  Contract          7043 non-null   object \n",
      " 16  PaperlessBilling  7043 non-null   object \n",
      " 17  PaymentMethod     7043 non-null   object \n",
      " 18  MonthlyCharges    7043 non-null   float64\n",
      " 19  TotalCharges      7043 non-null   float64\n",
      " 20  Churn             7043 non-null   object \n",
      "dtypes: float64(2), int64(2), object(17)\n",
      "memory usage: 1.1+ MB\n"
     ]
    }
   ],
   "source": [
    "df.info()"
   ]
  },
  {
   "cell_type": "markdown",
   "id": "98fe464c",
   "metadata": {},
   "source": [
    "- 4 числовых признака: `SeniorCitizen`, `tenure`, `MonthlyCharges`, `TotalCharges`"
   ]
  },
  {
   "cell_type": "code",
   "execution_count": 96,
   "id": "132aed3d",
   "metadata": {},
   "outputs": [
    {
     "name": "stdout",
     "output_type": "stream",
     "text": [
      "pvalue = 0.0. Данные НЕ распределены нормально\n"
     ]
    }
   ],
   "source": [
    "_, pvalue = stats.normaltest(df.SeniorCitizen)\n",
    "\n",
    "if pvalue < .05:\n",
    "    print(f'pvalue = {pvalue}. Данные НЕ распределены нормально')\n",
    "else:\n",
    "    print(f'pvalue = {pvalue}. Данные распределены нормально')"
   ]
  },
  {
   "cell_type": "code",
   "execution_count": 97,
   "id": "d7e39d6e",
   "metadata": {},
   "outputs": [
    {
     "name": "stdout",
     "output_type": "stream",
     "text": [
      "pvalue = 0.0. Данные НЕ распределены нормально\n"
     ]
    }
   ],
   "source": [
    "_, pvalue = stats.normaltest(df.tenure)\n",
    "\n",
    "if pvalue < .05:\n",
    "    print(f'pvalue = {pvalue}. Данные НЕ распределены нормально')\n",
    "else:\n",
    "    print(f'pvalue = {pvalue}. Данные распределены нормально')"
   ]
  },
  {
   "cell_type": "code",
   "execution_count": 98,
   "id": "03c91ca3",
   "metadata": {},
   "outputs": [
    {
     "name": "stdout",
     "output_type": "stream",
     "text": [
      "pvalue = 0.0. Данные НЕ распределены нормально\n"
     ]
    }
   ],
   "source": [
    "_, pvalue = stats.normaltest(df.MonthlyCharges)\n",
    "\n",
    "if pvalue < .05:\n",
    "    print(f'pvalue = {pvalue}. Данные НЕ распределены нормально')\n",
    "else:\n",
    "    print(f'pvalue = {pvalue}. Данные распределены нормально')"
   ]
  },
  {
   "cell_type": "code",
   "execution_count": 99,
   "id": "2838a03b",
   "metadata": {},
   "outputs": [
    {
     "name": "stdout",
     "output_type": "stream",
     "text": [
      "pvalue = 2.6049140547884825e-176. Данные НЕ распределены нормально\n"
     ]
    }
   ],
   "source": [
    "_, pvalue = stats.normaltest(df.TotalCharges)\n",
    "\n",
    "if pvalue < .05:\n",
    "    print(f'pvalue = {pvalue}. Данные НЕ распределены нормально')\n",
    "else:\n",
    "    print(f'pvalue = {pvalue}. Данные распределены нормально')"
   ]
  },
  {
   "cell_type": "markdown",
   "id": "b9040662-d2e5-4bfe-9d50-e7070ea54714",
   "metadata": {},
   "source": [
    "**Вывод:**\n",
    "- Нет данных, которые были бы распределены нормально"
   ]
  },
  {
   "cell_type": "markdown",
   "id": "c99ad67d-b05b-42d2-bf68-3f887a938f35",
   "metadata": {
    "tags": []
   },
   "source": [
    "## 6 ЗАДАЧИ PRO"
   ]
  },
  {
   "cell_type": "markdown",
   "id": "799a4a9b-6987-4d9e-abae-bb7c6d1002d1",
   "metadata": {},
   "source": [
    "Мы провели базовый анализ выше и сделали выводы.\n",
    "\n",
    "Но требование заказчика - выяснить причину ухода клиента.\n",
    "\n",
    "Ваша задача - провести полный анализ с помощью статистических гипотез взаимосвязи всех признаков с нашим таргетом `Churn` (целевым признаком). \n",
    "\n",
    "**Этапы:**\n",
    "\n",
    "1) Предобработка данных - измените датасет, в части: категориальные признаки надо перевести в числовые представления (закодировать). Главное - понимать взаимосвязь: бинарный признак, порядковый, просто категории или что-то иное. \n",
    "2) Выберите нужные гипотезы, основываясь на типах признаков.\n",
    "3) Проведите анализ, и выясните, почему клиент уходит, с чем коррелирует `Churn`, может это зависит от пола клиента? Или есть иные обстоятельства?\n",
    "4) После проверки гипотез, постройте тепловую карту корреляции `Phik` и сделайте дополнительный вывод.\n",
    "5) Дополните общий вывод. \n",
    "\n",
    "**Примечание:** задание не ограничено только этими этапами. Можно их дополнить - может стоит сделать фильтр данных, рассмотреть данные под другим углом и провести дополнительную аналитику? Средствами и методами не ограничены.\n",
    "\n",
    "**Подсказка:** для того, чтобы перевести наши категориальные переменные в числа (`0`, `1`, `2` и т.д.), можно воспользоваться функцией в `pandas`:\n",
    "\n",
    "```python\n",
    "pd.factorize(data[col])\n",
    "```\n",
    "Результат будет таким (если взять столбец `gender`):\n",
    "- `(array([0, 1, 1, ..., 0, 1, 1]), Index(['Female', 'Male'], dtype='object'))`\n",
    "\n",
    "Где:\n",
    "- `(array([0, 1, 1, ..., 0, 1, 1])` - это наш новый array, которым можем заменить значения\n",
    "- `Index(['Female', 'Male'], dtype='object'))` - старые значения, соответствующие числам выше (`Female`=`0`, `Male`=`1`)\n",
    "\n",
    "Соответственно, можем заменить значения в категориях на числа такой командой (если взять столбец `gender`):\n",
    "```python\n",
    "df['gender'] = pd.factorize(df['gender'])[0]\n",
    "```\n",
    "\n",
    "> **Примечание:** когда **категориальная** переменная изменяется на числа, она все равно остается **категориальной**! Просто теперь наш признак стал **закодированным** (то есть мы изменили слова на числа). "
   ]
  },
  {
   "cell_type": "code",
   "execution_count": 100,
   "id": "7e0b9967-4dca-45b7-8ff2-13cbeffa8418",
   "metadata": {},
   "outputs": [
    {
     "data": {
      "text/html": [
       "<div>\n",
       "<style scoped>\n",
       "    .dataframe tbody tr th:only-of-type {\n",
       "        vertical-align: middle;\n",
       "    }\n",
       "\n",
       "    .dataframe tbody tr th {\n",
       "        vertical-align: top;\n",
       "    }\n",
       "\n",
       "    .dataframe thead th {\n",
       "        text-align: right;\n",
       "    }\n",
       "</style>\n",
       "<table border=\"1\" class=\"dataframe\">\n",
       "  <thead>\n",
       "    <tr style=\"text-align: right;\">\n",
       "      <th></th>\n",
       "      <th>count</th>\n",
       "      <th>unique</th>\n",
       "      <th>top</th>\n",
       "      <th>freq</th>\n",
       "    </tr>\n",
       "  </thead>\n",
       "  <tbody>\n",
       "    <tr>\n",
       "      <th>customerID</th>\n",
       "      <td>7043</td>\n",
       "      <td>7043</td>\n",
       "      <td>3186-AJIEK</td>\n",
       "      <td>1</td>\n",
       "    </tr>\n",
       "    <tr>\n",
       "      <th>gender</th>\n",
       "      <td>7043</td>\n",
       "      <td>2</td>\n",
       "      <td>Male</td>\n",
       "      <td>3555</td>\n",
       "    </tr>\n",
       "    <tr>\n",
       "      <th>Partner</th>\n",
       "      <td>7043</td>\n",
       "      <td>2</td>\n",
       "      <td>No</td>\n",
       "      <td>3641</td>\n",
       "    </tr>\n",
       "    <tr>\n",
       "      <th>Dependents</th>\n",
       "      <td>7043</td>\n",
       "      <td>2</td>\n",
       "      <td>No</td>\n",
       "      <td>4933</td>\n",
       "    </tr>\n",
       "    <tr>\n",
       "      <th>PhoneService</th>\n",
       "      <td>7043</td>\n",
       "      <td>2</td>\n",
       "      <td>Yes</td>\n",
       "      <td>6361</td>\n",
       "    </tr>\n",
       "    <tr>\n",
       "      <th>MultipleLines</th>\n",
       "      <td>7043</td>\n",
       "      <td>3</td>\n",
       "      <td>No</td>\n",
       "      <td>3390</td>\n",
       "    </tr>\n",
       "    <tr>\n",
       "      <th>InternetService</th>\n",
       "      <td>7043</td>\n",
       "      <td>3</td>\n",
       "      <td>Fiber optic</td>\n",
       "      <td>3096</td>\n",
       "    </tr>\n",
       "    <tr>\n",
       "      <th>OnlineSecurity</th>\n",
       "      <td>7043</td>\n",
       "      <td>3</td>\n",
       "      <td>No</td>\n",
       "      <td>3498</td>\n",
       "    </tr>\n",
       "    <tr>\n",
       "      <th>OnlineBackup</th>\n",
       "      <td>7043</td>\n",
       "      <td>3</td>\n",
       "      <td>No</td>\n",
       "      <td>3088</td>\n",
       "    </tr>\n",
       "    <tr>\n",
       "      <th>DeviceProtection</th>\n",
       "      <td>7043</td>\n",
       "      <td>3</td>\n",
       "      <td>No</td>\n",
       "      <td>3095</td>\n",
       "    </tr>\n",
       "    <tr>\n",
       "      <th>TechSupport</th>\n",
       "      <td>7043</td>\n",
       "      <td>3</td>\n",
       "      <td>No</td>\n",
       "      <td>3473</td>\n",
       "    </tr>\n",
       "    <tr>\n",
       "      <th>StreamingTV</th>\n",
       "      <td>7043</td>\n",
       "      <td>3</td>\n",
       "      <td>No</td>\n",
       "      <td>2810</td>\n",
       "    </tr>\n",
       "    <tr>\n",
       "      <th>StreamingMovies</th>\n",
       "      <td>7043</td>\n",
       "      <td>3</td>\n",
       "      <td>No</td>\n",
       "      <td>2785</td>\n",
       "    </tr>\n",
       "    <tr>\n",
       "      <th>Contract</th>\n",
       "      <td>7043</td>\n",
       "      <td>3</td>\n",
       "      <td>Month-to-month</td>\n",
       "      <td>3875</td>\n",
       "    </tr>\n",
       "    <tr>\n",
       "      <th>PaperlessBilling</th>\n",
       "      <td>7043</td>\n",
       "      <td>2</td>\n",
       "      <td>Yes</td>\n",
       "      <td>4171</td>\n",
       "    </tr>\n",
       "    <tr>\n",
       "      <th>PaymentMethod</th>\n",
       "      <td>7043</td>\n",
       "      <td>4</td>\n",
       "      <td>Electronic check</td>\n",
       "      <td>2365</td>\n",
       "    </tr>\n",
       "    <tr>\n",
       "      <th>Churn</th>\n",
       "      <td>7043</td>\n",
       "      <td>2</td>\n",
       "      <td>No</td>\n",
       "      <td>5174</td>\n",
       "    </tr>\n",
       "  </tbody>\n",
       "</table>\n",
       "</div>"
      ],
      "text/plain": [
       "                 count unique               top  freq\n",
       "customerID        7043   7043        3186-AJIEK     1\n",
       "gender            7043      2              Male  3555\n",
       "Partner           7043      2                No  3641\n",
       "Dependents        7043      2                No  4933\n",
       "PhoneService      7043      2               Yes  6361\n",
       "MultipleLines     7043      3                No  3390\n",
       "InternetService   7043      3       Fiber optic  3096\n",
       "OnlineSecurity    7043      3                No  3498\n",
       "OnlineBackup      7043      3                No  3088\n",
       "DeviceProtection  7043      3                No  3095\n",
       "TechSupport       7043      3                No  3473\n",
       "StreamingTV       7043      3                No  2810\n",
       "StreamingMovies   7043      3                No  2785\n",
       "Contract          7043      3    Month-to-month  3875\n",
       "PaperlessBilling  7043      2               Yes  4171\n",
       "PaymentMethod     7043      4  Electronic check  2365\n",
       "Churn             7043      2                No  5174"
      ]
     },
     "execution_count": 100,
     "metadata": {},
     "output_type": "execute_result"
    }
   ],
   "source": [
    "df.describe(include='object').T"
   ]
  },
  {
   "cell_type": "code",
   "execution_count": 101,
   "id": "0488f2c6",
   "metadata": {},
   "outputs": [
    {
     "data": {
      "text/plain": [
       "array(['No', 'Yes'], dtype=object)"
      ]
     },
     "execution_count": 101,
     "metadata": {},
     "output_type": "execute_result"
    }
   ],
   "source": [
    "df['Churn'].unique()"
   ]
  },
  {
   "cell_type": "code",
   "execution_count": 102,
   "id": "ebb9cee2",
   "metadata": {},
   "outputs": [],
   "source": [
    "df['gender'] = df['gender'].replace({'Male': 1, 'Female': 0})\n",
    "df['Partner'] = df['Partner'].replace({'Yes': 1, 'No': 0})\n",
    "df['Dependents'] = df['Dependents'].replace({'Yes': 1, 'No': 0})\n",
    "df['PhoneService'] = df['PhoneService'].replace({'Yes': 1, 'No': 0})\n",
    "df['MultipleLines'] = df['MultipleLines'].replace({'No phone service': 2, 'Yes': 1, 'No': 0})\n",
    "df['InternetService'] = df['InternetService'].replace({'DSL': 2, 'Fiber optic': 1, 'No': 0})\n",
    "df['OnlineSecurity'] = df['OnlineSecurity'].replace({'No internet service': 2, 'Yes': 1, 'No': 0})\n",
    "df['OnlineBackup'] = df['OnlineBackup'].replace({'No internet service': 2, 'Yes': 1, 'No': 0})\n",
    "df['DeviceProtection'] = df['DeviceProtection'].replace({'No internet service': 2, 'Yes': 1, 'No': 0})\n",
    "df['TechSupport'] = df['TechSupport'].replace({'No internet service': 2, 'Yes': 1, 'No': 0})\n",
    "df['StreamingTV'] = df['StreamingTV'].replace({'No internet service': 2, 'Yes': 1, 'No': 0})\n",
    "df['StreamingMovies'] = df['StreamingMovies'].replace({'No internet service': 2, 'Yes': 1, 'No': 0})\n",
    "df['Contract'] = df['Contract'].replace({'Two year': 2, 'One year': 1, 'Month-to-month': 0})\n",
    "df['PaperlessBilling'] = df['PaperlessBilling'].replace({'Yes': 1, 'No': 0})\n",
    "df['PaymentMethod'] = df['PaymentMethod'].replace({'Electronic check': 3, 'Mailed check': 2, 'Bank transfer (automatic)': 1, 'Credit card (automatic)': 0})\n",
    "df['Churn'] = df['Churn'].replace({'Yes': 1, 'No': 0})\n"
   ]
  },
  {
   "cell_type": "markdown",
   "id": "4c986234",
   "metadata": {},
   "source": [
    "### Сравниваем пребывание клиента в компании при различных условиях"
   ]
  },
  {
   "cell_type": "code",
   "execution_count": 103,
   "id": "ece132c1",
   "metadata": {},
   "outputs": [],
   "source": [
    "def test_ind(a, b):\n",
    "    alpha = .05\n",
    "    _, pvalue = stats.ttest_ind(a, b)\n",
    "\n",
    "    if pvalue < alpha:\n",
    "        print(f'pvalue = {round(pvalue, 2)}. !!!!!! Выборки разные. Есть какая-то зависимость')\n",
    "    else:\n",
    "        print(f'pvalue = {round(pvalue, 2)}. Выборки одинаковые. Не зависит')"
   ]
  },
  {
   "cell_type": "code",
   "execution_count": 104,
   "id": "bed15263",
   "metadata": {},
   "outputs": [
    {
     "name": "stdout",
     "output_type": "stream",
     "text": [
      "pvalue = 0.0. !!!!!! Выборки разные. Есть какая-то зависимость\n"
     ]
    }
   ],
   "source": [
    "a = df.loc[df['Partner'] == 1, 'tenure']\n",
    "b = df.loc[df['Partner'] == 0, 'tenure']\n",
    "test_ind(a, b)"
   ]
  },
  {
   "cell_type": "code",
   "execution_count": 126,
   "id": "ebcbc8d3",
   "metadata": {},
   "outputs": [
    {
     "name": "stdout",
     "output_type": "stream",
     "text": [
      "При наличии партнера клиент остается в среднем на 42.01763668430335 месяцев\n",
      "Без партнера клиент остается в среднем на 23.357868717385333\n",
      "При наличии партнера клиент остается по медиане на 46.0 месяцев\n",
      "Без партнера клиент остается по медиане на 16.0\n"
     ]
    }
   ],
   "source": [
    "print(f'''При наличии партнера клиент остается в среднем на {df.loc[df['Partner'] == 1, 'tenure'].mean()} месяцев\n",
    "Без партнера клиент остается в среднем на {df.loc[df['Partner'] == 0, 'tenure'].mean()}''')\n",
    "print(f'''При наличии партнера клиент остается по медиане на {df.loc[df['Partner'] == 1, 'tenure'].median()} месяцев\n",
    "Без партнера клиент остается по медиане на {df.loc[df['Partner'] == 0, 'tenure'].median()}''')"
   ]
  },
  {
   "cell_type": "code",
   "execution_count": 105,
   "id": "6537869f",
   "metadata": {},
   "outputs": [
    {
     "name": "stdout",
     "output_type": "stream",
     "text": [
      "pvalue = 0.67. Выборки одинаковые. Не зависит\n"
     ]
    }
   ],
   "source": [
    "a = df.loc[df['gender'] == 1, 'tenure']\n",
    "b = df.loc[df['gender'] == 0, 'tenure']\n",
    "test_ind(a, b)"
   ]
  },
  {
   "cell_type": "code",
   "execution_count": 106,
   "id": "b5f64914",
   "metadata": {},
   "outputs": [
    {
     "name": "stdout",
     "output_type": "stream",
     "text": [
      "pvalue = 0.0. !!!!!! Выборки разные. Есть какая-то зависимость\n"
     ]
    }
   ],
   "source": [
    "a = df.loc[df['Dependents'] == 1, 'tenure']\n",
    "b = df.loc[df['Dependents'] == 0, 'tenure']\n",
    "test_ind(a, b)"
   ]
  },
  {
   "cell_type": "code",
   "execution_count": 127,
   "id": "540f72eb",
   "metadata": {},
   "outputs": [
    {
     "name": "stdout",
     "output_type": "stream",
     "text": [
      "При статусе кормильца клиент остается в среднем на 38.36824644549763 месяцев\n",
      "Без статуса кормильца клиент остается в среднем на 29.8060004054328\n",
      "При статусе кормильца клиент остается по медиане на 39.0 месяцев\n",
      "Без статуса кормильца клиент остается по медиане на 25.0\n"
     ]
    }
   ],
   "source": [
    "print(f'''При статусе кормильца клиент остается в среднем на {df.loc[df['Dependents'] == 1, 'tenure'].mean()} месяцев\n",
    "Без статуса кормильца клиент остается в среднем на {df.loc[df['Dependents'] == 0, 'tenure'].mean()}''')\n",
    "print(f'''При статусе кормильца клиент остается по медиане на {df.loc[df['Dependents'] == 1, 'tenure'].median()} месяцев\n",
    "Без статуса кормильца клиент остается по медиане на {df.loc[df['Dependents'] == 0, 'tenure'].median()}''')"
   ]
  },
  {
   "cell_type": "code",
   "execution_count": 136,
   "id": "b67fae1a",
   "metadata": {},
   "outputs": [
    {
     "name": "stdout",
     "output_type": "stream",
     "text": [
      "pvalue = 0.48. Выборки одинаковые. Не зависит\n"
     ]
    }
   ],
   "source": [
    "a = df.loc[df['PhoneService'] == 1, 'tenure']\n",
    "b = df.loc[df['PhoneService'] == 0, 'tenure']\n",
    "test_ind(a, b)"
   ]
  },
  {
   "cell_type": "code",
   "execution_count": 108,
   "id": "99a91c82",
   "metadata": {},
   "outputs": [
    {
     "name": "stdout",
     "output_type": "stream",
     "text": [
      "pvalue = 0.0. !!!!!! Выборки разные. Есть какая-то зависимость\n",
      "pvalue = 0.0. !!!!!! Выборки разные. Есть какая-то зависимость\n",
      "pvalue = 0.0. !!!!!! Выборки разные. Есть какая-то зависимость\n"
     ]
    }
   ],
   "source": [
    "a = df.loc[df['MultipleLines'] == 1, 'tenure']\n",
    "b = df.loc[df['MultipleLines'] == 0, 'tenure']\n",
    "c = df.loc[df['MultipleLines'] == 2, 'tenure']\n",
    "test_ind(a, b)\n",
    "test_ind(a, c)\n",
    "test_ind(b, c)"
   ]
  },
  {
   "cell_type": "code",
   "execution_count": 130,
   "id": "388e233f",
   "metadata": {},
   "outputs": [
    {
     "name": "stdout",
     "output_type": "stream",
     "text": [
      "24.13480825958702 No phone service\n",
      "41.91450690003366 Yes\n",
      "31.737536656891496 No\n"
     ]
    }
   ],
   "source": [
    "print(f\"{df.loc[df['MultipleLines'] == 0, 'tenure'].mean()} No phone service\")\n",
    "print(f\"{df.loc[df['MultipleLines'] == 1, 'tenure'].mean()} Yes\")\n",
    "print(f\"{df.loc[df['MultipleLines'] == 2, 'tenure'].mean()} No\")"
   ]
  },
  {
   "cell_type": "code",
   "execution_count": 109,
   "id": "8be36d13",
   "metadata": {},
   "outputs": [
    {
     "name": "stdout",
     "output_type": "stream",
     "text": [
      "pvalue = 0.0. !!!!!! Выборки разные. Есть какая-то зависимость\n",
      "pvalue = 0.89. Выборки одинаковые. Не зависит\n",
      "pvalue = 0.0. !!!!!! Выборки разные. Есть какая-то зависимость\n"
     ]
    }
   ],
   "source": [
    "a = df.loc[df['InternetService'] == 1, 'tenure']\n",
    "b = df.loc[df['InternetService'] == 0, 'tenure']\n",
    "c = df.loc[df['InternetService'] == 2, 'tenure']\n",
    "test_ind(a, b)\n",
    "test_ind(a, c)\n",
    "test_ind(b, c)"
   ]
  },
  {
   "cell_type": "code",
   "execution_count": 134,
   "id": "744e3542",
   "metadata": {},
   "outputs": [
    {
     "name": "stdout",
     "output_type": "stream",
     "text": [
      "32.91795865633075 Fiber optic\n",
      "32.82156133828996 DSL\n"
     ]
    }
   ],
   "source": [
    "print(f\"{df.loc[df['InternetService'] == 1, 'tenure'].mean()} Fiber optic\")\n",
    "print(f\"{df.loc[df['InternetService'] == 2, 'tenure'].mean()} DSL\")"
   ]
  },
  {
   "cell_type": "code",
   "execution_count": 110,
   "id": "b8e67fca",
   "metadata": {},
   "outputs": [
    {
     "name": "stdout",
     "output_type": "stream",
     "text": [
      "pvalue = 0.0. !!!!!! Выборки разные. Есть какая-то зависимость\n",
      "pvalue = 0.0. !!!!!! Выборки разные. Есть какая-то зависимость\n",
      "pvalue = 0.0. !!!!!! Выборки разные. Есть какая-то зависимость\n"
     ]
    }
   ],
   "source": [
    "a = df.loc[df['OnlineSecurity'] == 1, 'tenure']\n",
    "b = df.loc[df['OnlineSecurity'] == 0, 'tenure']\n",
    "c = df.loc[df['OnlineSecurity'] == 2, 'tenure']\n",
    "test_ind(a, b)\n",
    "test_ind(a, c)\n",
    "test_ind(b, c)"
   ]
  },
  {
   "cell_type": "code",
   "execution_count": 139,
   "id": "60f35d84",
   "metadata": {},
   "outputs": [
    {
     "name": "stdout",
     "output_type": "stream",
     "text": [
      "45.04655770183259 Yes\n",
      "30.54718217562254 No internet service\n",
      "25.850771869639793 No\n"
     ]
    }
   ],
   "source": [
    "print(f\"{df.loc[df['OnlineSecurity'] == 1, 'tenure'].mean()} Yes\")\n",
    "print(f\"{df.loc[df['OnlineSecurity'] == 2, 'tenure'].mean()} No internet service\")\n",
    "print(f\"{df.loc[df['OnlineSecurity'] == 0, 'tenure'].mean()} No\")"
   ]
  },
  {
   "cell_type": "code",
   "execution_count": 111,
   "id": "50fd58c4",
   "metadata": {},
   "outputs": [
    {
     "name": "stdout",
     "output_type": "stream",
     "text": [
      "pvalue = 0.0. !!!!!! Выборки разные. Есть какая-то зависимость\n",
      "pvalue = 0.0. !!!!!! Выборки разные. Есть какая-то зависимость\n",
      "pvalue = 0.0. !!!!!! Выборки разные. Есть какая-то зависимость\n"
     ]
    }
   ],
   "source": [
    "a = df.loc[df['OnlineBackup'] == 1, 'tenure']\n",
    "b = df.loc[df['OnlineBackup'] == 0, 'tenure']\n",
    "c = df.loc[df['OnlineBackup'] == 2, 'tenure']\n",
    "test_ind(a, b)\n",
    "test_ind(a, c)\n",
    "test_ind(b, c)"
   ]
  },
  {
   "cell_type": "code",
   "execution_count": 140,
   "id": "8b0ee1fe",
   "metadata": {},
   "outputs": [
    {
     "name": "stdout",
     "output_type": "stream",
     "text": [
      "44.56525319061342 Yes\n",
      "30.54718217562254 No internet service\n",
      "23.680699481865286 No\n"
     ]
    }
   ],
   "source": [
    "print(f\"{df.loc[df['OnlineBackup'] == 1, 'tenure'].mean()} Yes\")\n",
    "print(f\"{df.loc[df['OnlineBackup'] == 2, 'tenure'].mean()} No internet service\")\n",
    "print(f\"{df.loc[df['OnlineBackup'] == 0, 'tenure'].mean()} No\")"
   ]
  },
  {
   "cell_type": "code",
   "execution_count": 112,
   "id": "e5494160",
   "metadata": {},
   "outputs": [
    {
     "name": "stdout",
     "output_type": "stream",
     "text": [
      "pvalue = 0.0. !!!!!! Выборки разные. Есть какая-то зависимость\n",
      "pvalue = 0.0. !!!!!! Выборки разные. Есть какая-то зависимость\n",
      "pvalue = 0.0. !!!!!! Выборки разные. Есть какая-то зависимость\n"
     ]
    }
   ],
   "source": [
    "a = df.loc[df['DeviceProtection'] == 1, 'tenure']\n",
    "b = df.loc[df['DeviceProtection'] == 0, 'tenure']\n",
    "c = df.loc[df['DeviceProtection'] == 2, 'tenure']\n",
    "test_ind(a, b)\n",
    "test_ind(a, c)\n",
    "test_ind(b, c)"
   ]
  },
  {
   "cell_type": "code",
   "execution_count": 141,
   "id": "82e70bef",
   "metadata": {},
   "outputs": [
    {
     "name": "stdout",
     "output_type": "stream",
     "text": [
      "44.60487200660611 Yes\n",
      "30.54718217562254 No internet service\n",
      "23.696930533117932 No\n"
     ]
    }
   ],
   "source": [
    "print(f\"{df.loc[df['DeviceProtection'] == 1, 'tenure'].mean()} Yes\")\n",
    "print(f\"{df.loc[df['DeviceProtection'] == 2, 'tenure'].mean()} No internet service\")\n",
    "print(f\"{df.loc[df['DeviceProtection'] == 0, 'tenure'].mean()} No\")"
   ]
  },
  {
   "cell_type": "code",
   "execution_count": 113,
   "id": "b91c09d8",
   "metadata": {},
   "outputs": [
    {
     "name": "stdout",
     "output_type": "stream",
     "text": [
      "pvalue = 0.0. !!!!!! Выборки разные. Есть какая-то зависимость\n",
      "pvalue = 0.0. !!!!!! Выборки разные. Есть какая-то зависимость\n",
      "pvalue = 0.0. !!!!!! Выборки разные. Есть какая-то зависимость\n"
     ]
    }
   ],
   "source": [
    "a = df.loc[df['TechSupport'] == 1, 'tenure']\n",
    "b = df.loc[df['TechSupport'] == 0, 'tenure']\n",
    "c = df.loc[df['TechSupport'] == 2, 'tenure']\n",
    "test_ind(a, b)\n",
    "test_ind(a, c)\n",
    "test_ind(b, c)"
   ]
  },
  {
   "cell_type": "code",
   "execution_count": 142,
   "id": "88ceff02",
   "metadata": {},
   "outputs": [
    {
     "name": "stdout",
     "output_type": "stream",
     "text": [
      "44.82289628180039 Yes\n",
      "30.54718217562254 No internet service\n",
      "25.84422689317593 No\n"
     ]
    }
   ],
   "source": [
    "print(f\"{df.loc[df['TechSupport'] == 1, 'tenure'].mean()} Yes\")\n",
    "print(f\"{df.loc[df['TechSupport'] == 2, 'tenure'].mean()} No internet service\")\n",
    "print(f\"{df.loc[df['TechSupport'] == 0, 'tenure'].mean()} No\")"
   ]
  },
  {
   "cell_type": "code",
   "execution_count": 114,
   "id": "d905250f",
   "metadata": {},
   "outputs": [
    {
     "name": "stdout",
     "output_type": "stream",
     "text": [
      "pvalue = 0.0. !!!!!! Выборки разные. Есть какая-то зависимость\n",
      "pvalue = 0.0. !!!!!! Выборки разные. Есть какая-то зависимость\n",
      "pvalue = 0.0. !!!!!! Выборки разные. Есть какая-то зависимость\n"
     ]
    }
   ],
   "source": [
    "a = df.loc[df['StreamingTV'] == 1, 'tenure']\n",
    "b = df.loc[df['StreamingTV'] == 0, 'tenure']\n",
    "c = df.loc[df['StreamingTV'] == 2, 'tenure']\n",
    "test_ind(a, b)\n",
    "test_ind(a, c)\n",
    "test_ind(b, c)"
   ]
  },
  {
   "cell_type": "code",
   "execution_count": 143,
   "id": "fb5bfb5e",
   "metadata": {},
   "outputs": [
    {
     "name": "stdout",
     "output_type": "stream",
     "text": [
      "41.066124861470264 Yes\n",
      "30.54718217562254 No internet service\n",
      "24.98540925266904 No\n"
     ]
    }
   ],
   "source": [
    "print(f\"{df.loc[df['StreamingTV'] == 1, 'tenure'].mean()} Yes\")\n",
    "print(f\"{df.loc[df['StreamingTV'] == 2, 'tenure'].mean()} No internet service\")\n",
    "print(f\"{df.loc[df['StreamingTV'] == 0, 'tenure'].mean()} No\")"
   ]
  },
  {
   "cell_type": "code",
   "execution_count": 115,
   "id": "ed50168d",
   "metadata": {},
   "outputs": [
    {
     "name": "stdout",
     "output_type": "stream",
     "text": [
      "pvalue = 0.0. !!!!!! Выборки разные. Есть какая-то зависимость\n",
      "pvalue = 0.0. !!!!!! Выборки разные. Есть какая-то зависимость\n",
      "pvalue = 0.0. !!!!!! Выборки разные. Есть какая-то зависимость\n"
     ]
    }
   ],
   "source": [
    "a = df.loc[df['StreamingMovies'] == 1, 'tenure']\n",
    "b = df.loc[df['StreamingMovies'] == 0, 'tenure']\n",
    "c = df.loc[df['StreamingMovies'] == 2, 'tenure']\n",
    "test_ind(a, b)\n",
    "test_ind(a, c)\n",
    "test_ind(b, c)"
   ]
  },
  {
   "cell_type": "code",
   "execution_count": 144,
   "id": "f189411f",
   "metadata": {},
   "outputs": [
    {
     "name": "stdout",
     "output_type": "stream",
     "text": [
      "41.19729136163983 Yes\n",
      "30.54718217562254 No internet service\n",
      "24.712387791741474 No\n"
     ]
    }
   ],
   "source": [
    "print(f\"{df.loc[df['StreamingMovies'] == 1, 'tenure'].mean()} Yes\")\n",
    "print(f\"{df.loc[df['StreamingMovies'] == 2, 'tenure'].mean()} No internet service\")\n",
    "print(f\"{df.loc[df['StreamingMovies'] == 0, 'tenure'].mean()} No\")"
   ]
  },
  {
   "cell_type": "code",
   "execution_count": 116,
   "id": "21a2325a",
   "metadata": {},
   "outputs": [
    {
     "name": "stdout",
     "output_type": "stream",
     "text": [
      "pvalue = 0.0. !!!!!! Выборки разные. Есть какая-то зависимость\n",
      "pvalue = 0.0. !!!!!! Выборки разные. Есть какая-то зависимость\n",
      "pvalue = 0.0. !!!!!! Выборки разные. Есть какая-то зависимость\n"
     ]
    }
   ],
   "source": [
    "a = df.loc[df['Contract'] == 1, 'tenure']\n",
    "b = df.loc[df['Contract'] == 0, 'tenure']\n",
    "c = df.loc[df['Contract'] == 2, 'tenure']\n",
    "test_ind(a, b)\n",
    "test_ind(a, c)\n",
    "test_ind(b, c)"
   ]
  },
  {
   "cell_type": "code",
   "execution_count": 145,
   "id": "8ff13eca",
   "metadata": {},
   "outputs": [
    {
     "name": "stdout",
     "output_type": "stream",
     "text": [
      "42.044806517311606 One year\n",
      "56.73510324483776 two year\n",
      "18.036645161290323 Month-to-month\n"
     ]
    }
   ],
   "source": [
    "print(f\"{df.loc[df['Contract'] == 1, 'tenure'].mean()} One year\")\n",
    "print(f\"{df.loc[df['Contract'] == 2, 'tenure'].mean()} two year\")\n",
    "print(f\"{df.loc[df['Contract'] == 0, 'tenure'].mean()} Month-to-month\")"
   ]
  },
  {
   "cell_type": "code",
   "execution_count": 117,
   "id": "21c3022b",
   "metadata": {},
   "outputs": [
    {
     "name": "stdout",
     "output_type": "stream",
     "text": [
      "pvalue = 0.61. Выборки одинаковые. Не зависит\n"
     ]
    }
   ],
   "source": [
    "a = df.loc[df['PaperlessBilling'] == 1, 'tenure']\n",
    "b = df.loc[df['PaperlessBilling'] == 0, 'tenure']\n",
    "test_ind(a, b)"
   ]
  },
  {
   "cell_type": "code",
   "execution_count": 121,
   "id": "ba671d69",
   "metadata": {},
   "outputs": [
    {
     "name": "stdout",
     "output_type": "stream",
     "text": [
      "pvalue = 0.64. Выборки одинаковые. Не зависит\n",
      "pvalue = 0.0. !!!!!! Выборки разные. Есть какая-то зависимость\n",
      "pvalue = 0.0. !!!!!! Выборки разные. Есть какая-то зависимость\n",
      "pvalue = 0.0. !!!!!! Выборки разные. Есть какая-то зависимость\n",
      "pvalue = 0.0. !!!!!! Выборки разные. Есть какая-то зависимость\n",
      "pvalue = 0.0. !!!!!! Выборки разные. Есть какая-то зависимость\n"
     ]
    }
   ],
   "source": [
    "a = df.loc[df['PaymentMethod'] == 1, 'tenure']\n",
    "b = df.loc[df['PaymentMethod'] == 0, 'tenure']\n",
    "c = df.loc[df['PaymentMethod'] == 2, 'tenure']\n",
    "d = df.loc[df['PaymentMethod'] == 3, 'tenure']\n",
    "test_ind(a, b)\n",
    "test_ind(a, c)\n",
    "test_ind(a, d)\n",
    "test_ind(b, c)\n",
    "test_ind(b, d)\n",
    "test_ind(c, d)"
   ]
  },
  {
   "cell_type": "code",
   "execution_count": 146,
   "id": "81c65f18",
   "metadata": {},
   "outputs": [
    {
     "name": "stdout",
     "output_type": "stream",
     "text": [
      "43.65673575129534 Bank transfer (automatic)\n",
      "21.830024813895783 Mailed check\n",
      "43.269382391590014 Credit card (automatic)\n",
      "25.17463002114165 Electronic check\n"
     ]
    }
   ],
   "source": [
    "print(f\"{df.loc[df['PaymentMethod'] == 1, 'tenure'].mean()} Bank transfer (automatic)\")\n",
    "print(f\"{df.loc[df['PaymentMethod'] == 2, 'tenure'].mean()} Mailed check\")\n",
    "print(f\"{df.loc[df['PaymentMethod'] == 0, 'tenure'].mean()} Credit card (automatic)\")\n",
    "print(f\"{df.loc[df['PaymentMethod'] == 3, 'tenure'].mean()} Electronic check\")"
   ]
  },
  {
   "cell_type": "code",
   "execution_count": 120,
   "id": "aac624f0",
   "metadata": {},
   "outputs": [
    {
     "name": "stdout",
     "output_type": "stream",
     "text": [
      "pvalue = 0.0. !!!!!! Выборки разные. Есть какая-то зависимость\n"
     ]
    }
   ],
   "source": [
    "a = df.loc[df['Churn'] == 1, 'tenure']\n",
    "b = df.loc[df['Churn'] == 0, 'tenure']\n",
    "test_ind(a, b)"
   ]
  },
  {
   "cell_type": "code",
   "execution_count": 147,
   "id": "942cfcda",
   "metadata": {},
   "outputs": [
    {
     "name": "stdout",
     "output_type": "stream",
     "text": [
      "17.979133226324237\n",
      "37.56996521066873\n"
     ]
    }
   ],
   "source": [
    "print(f\"{df.loc[df['Churn'] == 1, 'tenure'].mean()}\")\n",
    "print(f\"{df.loc[df['Churn'] == 0, 'tenure'].mean()}\")"
   ]
  },
  {
   "cell_type": "markdown",
   "id": "40cc7f56",
   "metadata": {},
   "source": [
    "### Корреляции"
   ]
  },
  {
   "cell_type": "code",
   "execution_count": 155,
   "id": "57ac66f2",
   "metadata": {},
   "outputs": [],
   "source": [
    "def correlation(a, b, col):\n",
    "    \n",
    "    print('=================================================================')\n",
    "    print(f'Проверяем {col}')\n",
    "\n",
    "    correlation, pvalue = stats.pearsonr(a, b)\n",
    "\n",
    "    print(f'Корреляция Пирсона равна {correlation}')\n",
    "    if pvalue < .05:\n",
    "        print(f'pvalue = {pvalue}.!!!!! Данные между собой зависимы')\n",
    "    else:\n",
    "        print(f'pvalue = {pvalue}. Данные между собой НЕзависимы')\n",
    "\n",
    "    print('=================================================================')\n",
    "\n",
    "    correlation, pvalue = stats.spearmanr(a, b)\n",
    "\n",
    "    print(f'Корреляция Спирмена равна {correlation}')\n",
    "    if pvalue < .05:\n",
    "        print(f'pvalue = {pvalue}.!!!!! Данные между собой зависимы')\n",
    "    else:\n",
    "        print(f'pvalue = {pvalue}. Данные между собой НЕзависимы')\n",
    "\n",
    "    print('=================================================================')"
   ]
  },
  {
   "cell_type": "code",
   "execution_count": 149,
   "id": "ad570e98",
   "metadata": {},
   "outputs": [],
   "source": [
    "cols = ['gender', 'Partner', 'Dependents', 'PhoneService', 'MultipleLines', 'InternetService', \n",
    "        'OnlineSecurity', 'OnlineBackup', 'DeviceProtection', 'TechSupport', 'StreamingTV', \n",
    "        'StreamingMovies', 'Contract', 'PaperlessBilling', 'PaymentMethod', 'tenure']"
   ]
  },
  {
   "cell_type": "code",
   "execution_count": 156,
   "id": "b871403a",
   "metadata": {},
   "outputs": [
    {
     "name": "stdout",
     "output_type": "stream",
     "text": [
      "=================================================================\n",
      "Проверяем gender\n",
      "Корреляция Пирсона равна -0.008612095078997796\n",
      "pvalue = 0.46990453909804414. Данные между собой НЕзависимы\n",
      "=================================================================\n",
      "Корреляция Спирмена равна -0.00861209507899781\n",
      "pvalue = 0.4699045390980453. Данные между собой НЕзависимы\n",
      "=================================================================\n",
      "=================================================================\n",
      "Проверяем Partner\n",
      "Корреляция Пирсона равна -0.1504475449591766\n",
      "pvalue = 6.220731129619536e-37.!!!!! Данные между собой зависимы\n",
      "=================================================================\n",
      "Корреляция Спирмена равна -0.15044754495917653\n",
      "pvalue = 6.2207311296213015e-37.!!!!! Данные между собой зависимы\n",
      "=================================================================\n",
      "=================================================================\n",
      "Проверяем Dependents\n",
      "Корреляция Пирсона равна -0.16422140157972528\n",
      "pvalue = 9.140432989090262e-44.!!!!! Данные между собой зависимы\n",
      "=================================================================\n",
      "Корреляция Спирмена равна -0.16422140157972526\n",
      "pvalue = 9.140432989088978e-44.!!!!! Данные между собой зависимы\n",
      "=================================================================\n",
      "=================================================================\n",
      "Проверяем PhoneService\n",
      "Корреляция Пирсона равна 0.011941980029003053\n",
      "pvalue = 0.31631478134317265. Данные между собой НЕзависимы\n",
      "=================================================================\n",
      "Корреляция Спирмена равна 0.011941980029003079\n",
      "pvalue = 0.3163147813431695. Данные между собой НЕзависимы\n",
      "=================================================================\n",
      "=================================================================\n",
      "Проверяем MultipleLines\n",
      "Корреляция Пирсона равна 0.019422959386049134\n",
      "pvalue = 0.10312488614019764. Данные между собой НЕзависимы\n",
      "=================================================================\n",
      "Корреляция Спирмена равна 0.02472116530442748\n",
      "pvalue = 0.038022431097288215.!!!!! Данные между собой зависимы\n",
      "=================================================================\n",
      "=================================================================\n",
      "Проверяем InternetService\n",
      "Корреляция Пирсона равна 0.047291387683142366\n",
      "pvalue = 7.177244684465418e-05.!!!!! Данные между собой зависимы\n",
      "=================================================================\n",
      "Корреляция Спирмена равна 0.028689855882616765\n",
      "pvalue = 0.016049187699118783.!!!!! Данные между собой зависимы\n",
      "=================================================================\n",
      "=================================================================\n",
      "Проверяем OnlineSecurity\n",
      "Корреляция Пирсона равна -0.33281919168942686\n",
      "pvalue = 9.161117184169606e-182.!!!!! Данные между собой зависимы\n",
      "=================================================================\n",
      "Корреляция Спирмена равна -0.342147677810437\n",
      "pvalue = 1.2175197817100197e-192.!!!!! Данные между собой зависимы\n",
      "=================================================================\n",
      "=================================================================\n",
      "Проверяем OnlineBackup\n",
      "Корреляция Пирсона равна -0.29144892493073904\n",
      "pvalue = 6.19388007848449e-138.!!!!! Данные между собой зависимы\n",
      "=================================================================\n",
      "Корреляция Спирмена равна -0.29226165508987034\n",
      "pvalue = 9.951690669575861e-139.!!!!! Данные между собой зависимы\n",
      "=================================================================\n",
      "=================================================================\n",
      "Проверяем DeviceProtection\n",
      "Корреляция Пирсона равна -0.28146482465747014\n",
      "pvalue = 2.1610877265889337e-128.!!!!! Данные между собой зависимы\n",
      "=================================================================\n",
      "Корреляция Спирмена равна -0.2809286436468152\n",
      "pvalue = 6.856853242036856e-128.!!!!! Данные между собой зависимы\n",
      "=================================================================\n",
      "=================================================================\n",
      "Проверяем TechSupport\n",
      "Корреляция Пирсона равна -0.3298522644699363\n",
      "pvalue = 2.2008013877008135e-178.!!!!! Данные между собой зависимы\n",
      "=================================================================\n",
      "Корреляция Спирмена равна -0.33845725116238595\n",
      "pvalue = 2.7128274435056937e-188.!!!!! Данные между собой зависимы\n",
      "=================================================================\n",
      "=================================================================\n",
      "Проверяем StreamingTV\n",
      "Корреляция Пирсона равна -0.2057421569399127\n",
      "pvalue = 3.421205185211267e-68.!!!!! Данные между собой зависимы\n",
      "=================================================================\n",
      "Корреляция Спирмена равна -0.19666210291205644\n",
      "pvalue = 2.3766895245951287e-62.!!!!! Данные между собой зависимы\n",
      "=================================================================\n",
      "=================================================================\n",
      "Проверяем StreamingMovies\n",
      "Корреляция Пирсона равна -0.20725609227308098\n",
      "pvalue = 3.4077320730650876e-69.!!!!! Данные между собой зависимы\n",
      "=================================================================\n",
      "Корреляция Спирмена равна -0.1985031033580187\n",
      "pvalue = 1.6385832554067934e-63.!!!!! Данные между собой зависимы\n",
      "=================================================================\n",
      "=================================================================\n",
      "Проверяем Contract\n",
      "Корреляция Пирсона равна -0.39671262920984307\n",
      "pvalue = 3.6666750628739268e-264.!!!!! Данные между собой зависимы\n",
      "=================================================================\n",
      "Корреляция Спирмена равна -0.4062615766488807\n",
      "pvalue = 3.779860316096388e-278.!!!!! Данные между собой зависимы\n",
      "=================================================================\n",
      "=================================================================\n",
      "Проверяем PaperlessBilling\n",
      "Корреляция Пирсона равна 0.1918253316664679\n",
      "pvalue = 2.3565543205819682e-59.!!!!! Данные между собой зависимы\n",
      "=================================================================\n",
      "Корреляция Спирмена равна 0.1918253316664679\n",
      "pvalue = 2.356554320581795e-59.!!!!! Данные между собой зависимы\n",
      "=================================================================\n",
      "=================================================================\n",
      "Проверяем PaymentMethod\n",
      "Корреляция Пирсона равна 0.26281820208935736\n",
      "pvalue = 1.3317383673676322e-111.!!!!! Данные между собой зависимы\n",
      "=================================================================\n",
      "Корреляция Спирмена равна 0.27165518431361435\n",
      "pvalue = 2.153764370252477e-119.!!!!! Данные между собой зависимы\n",
      "=================================================================\n",
      "=================================================================\n",
      "Проверяем tenure\n",
      "Корреляция Пирсона равна -0.35222867011307807\n",
      "pvalue = 7.999057960588301e-205.!!!!! Данные между собой зависимы\n",
      "=================================================================\n",
      "Корреляция Спирмена равна -0.3670618566861082\n",
      "pvalue = 1.4046167699508622e-223.!!!!! Данные между собой зависимы\n",
      "=================================================================\n"
     ]
    }
   ],
   "source": [
    "for col in cols:\n",
    "    correlation(df[col], df['Churn'], col)"
   ]
  },
  {
   "cell_type": "code",
   "execution_count": 166,
   "id": "68635683",
   "metadata": {},
   "outputs": [
    {
     "name": "stdout",
     "output_type": "stream",
     "text": [
      "0.07404980340760157 No internet service\n",
      "0.14611193660227836 Yes\n",
      "0.4176672384219554 No\n"
     ]
    }
   ],
   "source": [
    "print(f\"{df.loc[df['OnlineSecurity'] == 2, 'Churn'].mean()} No internet service\")\n",
    "print(f\"{df.loc[df['OnlineSecurity'] == 1, 'Churn'].mean()} Yes\")\n",
    "print(f\"{df.loc[df['OnlineSecurity'] == 0, 'Churn'].mean()} No\")"
   ]
  },
  {
   "cell_type": "code",
   "execution_count": 167,
   "id": "4168aa04",
   "metadata": {},
   "outputs": [
    {
     "name": "stdout",
     "output_type": "stream",
     "text": [
      "0.1966490299823633 Yes\n",
      "0.32957978577313923 No\n"
     ]
    }
   ],
   "source": [
    "print(f\"{df.loc[df['Partner'] == 1, 'Churn'].mean()} Yes\")\n",
    "print(f\"{df.loc[df['Partner'] == 0, 'Churn'].mean()} No\")"
   ]
  },
  {
   "cell_type": "code",
   "execution_count": 168,
   "id": "c07d6a7f",
   "metadata": {},
   "outputs": [
    {
     "name": "stdout",
     "output_type": "stream",
     "text": [
      "0.15450236966824646 Yes\n",
      "0.3127914048246503 No\n"
     ]
    }
   ],
   "source": [
    "print(f\"{df.loc[df['Dependents'] == 1, 'Churn'].mean()} Yes\")\n",
    "print(f\"{df.loc[df['Dependents'] == 0, 'Churn'].mean()} No\")"
   ]
  },
  {
   "cell_type": "code",
   "execution_count": 169,
   "id": "b171bcca",
   "metadata": {},
   "outputs": [
    {
     "name": "stdout",
     "output_type": "stream",
     "text": [
      "0.07404980340760157 No internet service\n",
      "0.21531494442157267 Yes\n",
      "0.39928756476683935 No\n"
     ]
    }
   ],
   "source": [
    "print(f\"{df.loc[df['OnlineBackup'] == 2, 'Churn'].mean()} No internet service\")\n",
    "print(f\"{df.loc[df['OnlineBackup'] == 1, 'Churn'].mean()} Yes\")\n",
    "print(f\"{df.loc[df['OnlineBackup'] == 0, 'Churn'].mean()} No\")"
   ]
  },
  {
   "cell_type": "code",
   "execution_count": 170,
   "id": "db4b6b29",
   "metadata": {},
   "outputs": [
    {
     "name": "stdout",
     "output_type": "stream",
     "text": [
      "0.07404980340760157 No internet service\n",
      "0.2250206440957886 Yes\n",
      "0.3912762520193861 No\n"
     ]
    }
   ],
   "source": [
    "print(f\"{df.loc[df['DeviceProtection'] == 2, 'Churn'].mean()} No internet service\")\n",
    "print(f\"{df.loc[df['DeviceProtection'] == 1, 'Churn'].mean()} Yes\")\n",
    "print(f\"{df.loc[df['DeviceProtection'] == 0, 'Churn'].mean()} No\")"
   ]
  },
  {
   "cell_type": "code",
   "execution_count": 171,
   "id": "18a1efbc",
   "metadata": {},
   "outputs": [
    {
     "name": "stdout",
     "output_type": "stream",
     "text": [
      "0.07404980340760157 No internet service\n",
      "0.15166340508806261 Yes\n",
      "0.4163547365390153 No\n"
     ]
    }
   ],
   "source": [
    "print(f\"{df.loc[df['TechSupport'] == 2, 'Churn'].mean()} No internet service\")\n",
    "print(f\"{df.loc[df['TechSupport'] == 1, 'Churn'].mean()} Yes\")\n",
    "print(f\"{df.loc[df['TechSupport'] == 0, 'Churn'].mean()} No\")"
   ]
  },
  {
   "cell_type": "code",
   "execution_count": 172,
   "id": "3cc93290",
   "metadata": {},
   "outputs": [
    {
     "name": "stdout",
     "output_type": "stream",
     "text": [
      "0.07404980340760157 No internet service\n",
      "0.30070188400443293 Yes\n",
      "0.33523131672597867 No\n"
     ]
    }
   ],
   "source": [
    "print(f\"{df.loc[df['StreamingTV'] == 2, 'Churn'].mean()} No internet service\")\n",
    "print(f\"{df.loc[df['StreamingTV'] == 1, 'Churn'].mean()} Yes\")\n",
    "print(f\"{df.loc[df['StreamingTV'] == 0, 'Churn'].mean()} No\")"
   ]
  },
  {
   "cell_type": "code",
   "execution_count": 173,
   "id": "d28a0c53",
   "metadata": {},
   "outputs": [
    {
     "name": "stdout",
     "output_type": "stream",
     "text": [
      "0.07404980340760157 No internet service\n",
      "0.29941434846266474 Yes\n",
      "0.33680430879712747 No\n"
     ]
    }
   ],
   "source": [
    "print(f\"{df.loc[df['StreamingMovies'] == 2, 'Churn'].mean()} No internet service\")\n",
    "print(f\"{df.loc[df['StreamingMovies'] == 1, 'Churn'].mean()} Yes\")\n",
    "print(f\"{df.loc[df['StreamingMovies'] == 0, 'Churn'].mean()} No\")"
   ]
  },
  {
   "cell_type": "code",
   "execution_count": 174,
   "id": "811a6e85",
   "metadata": {},
   "outputs": [
    {
     "name": "stdout",
     "output_type": "stream",
     "text": [
      "0.02831858407079646 Two years\n",
      "0.11269517990495587 One year\n",
      "0.4270967741935484 month to month\n"
     ]
    }
   ],
   "source": [
    "print(f\"{df.loc[df['Contract'] == 2, 'Churn'].mean()} Two years\")\n",
    "print(f\"{df.loc[df['Contract'] == 1, 'Churn'].mean()} One year\")\n",
    "print(f\"{df.loc[df['Contract'] == 0, 'Churn'].mean()} month to month\")"
   ]
  },
  {
   "cell_type": "code",
   "execution_count": 175,
   "id": "0c917e5b",
   "metadata": {},
   "outputs": [
    {
     "name": "stdout",
     "output_type": "stream",
     "text": [
      "0.33565092304003835 Yes\n",
      "0.1633008356545961 No\n"
     ]
    }
   ],
   "source": [
    "print(f\"{df.loc[df['PaperlessBilling'] == 1, 'Churn'].mean()} Yes\")\n",
    "print(f\"{df.loc[df['PaperlessBilling'] == 0, 'Churn'].mean()} No\")"
   ]
  },
  {
   "cell_type": "code",
   "execution_count": 176,
   "id": "e91662b1",
   "metadata": {},
   "outputs": [
    {
     "name": "stdout",
     "output_type": "stream",
     "text": [
      "0.4528541226215645 Electronic check\n",
      "0.19106699751861042 Mailed check\n",
      "0.16709844559585493 Bank transfer (automatic)\n",
      "0.15243101182654403 Credit card (automatic)\n"
     ]
    }
   ],
   "source": [
    "print(f\"{df.loc[df['PaymentMethod'] == 3, 'Churn'].mean()} Electronic check\")\n",
    "print(f\"{df.loc[df['PaymentMethod'] == 2, 'Churn'].mean()} Mailed check\")\n",
    "print(f\"{df.loc[df['PaymentMethod'] == 1, 'Churn'].mean()} Bank transfer (automatic)\")\n",
    "print(f\"{df.loc[df['PaymentMethod'] == 0, 'Churn'].mean()} Credit card (automatic)\")"
   ]
  },
  {
   "cell_type": "markdown",
   "id": "3f764616-e487-4f19-b6b8-25104e3f3195",
   "metadata": {},
   "source": [
    "# Общий вывод"
   ]
  },
  {
   "cell_type": "markdown",
   "id": "3f3c0bce-40e3-4933-92a5-3b3e83b2ec89",
   "metadata": {},
   "source": [
    "Опишите данные и результат исследования, основываясь на предыдущих шагах:"
   ]
  },
  {
   "cell_type": "markdown",
   "id": "e9d409b1",
   "metadata": {},
   "source": [
    "1. Сначала через stats.ttest_ind было выяснено, что влияет на продолжительность предывания клиентов в компании\n",
    "2. Далее была вычислена корреляция\n",
    "3. Потом на основе наиболее значимых данных было высчитано среднее значение ушедших на сгруппированных признаках с наиболее высокими корреляциями\n",
    "\n",
    "- Клиент остается в компании на 16-20 месяцев меньше без партнера, чем те, у кого есть партнер\n",
    "- Те, кто не является кормильцем остаются в компании примерно на 10 месяцев меньше\n",
    "- В среднем те, у кого нет нескольких линий сидят в компании на 10 месяцев меньше, в отличие от тех, у кого она есть, и на 20 месяцев меньше сидят в компании те, у кого нет сервиса телефона\n",
    "- В среднем те, у кого DSL или Fiber optic сидят в компании на 2 месяца дольше, чем люди без интернет сервисов\n",
    "- В среднем те, у кого есть онлайн-безопасность на 15 месяцев дольше остаются в компании, чем те, у кого нет интернет сервиса и на 20 месяцев остаются дольше чем те, у кого нет онлайн безопасности\n",
    "- Такая же тенденция с теми клиентами, у которых есть онлайн резервное копирование\n",
    "- Такая же тенденция с теми, у кого защита устройства\n",
    "- Такая же тенденция с теми, у кого техническая поддержка\n",
    "- В среднем те, у кого есть стриминговое тв на 10 месяцев дольше остаются в компании, чем те, у кого нет интернет сервиса и на 15 месяцев остаются дольше чем те, у кого нет стриминговых сервисов\n",
    "- Та же тенденция со стриминговыми сервисами\n",
    "- В среднем у кого контракт на 2 года остаются почти на 57 месяцев, у кого 1 год - 42 месяца, и те, у кого ежемесячная оплата остаются на 18 месяцев\n",
    "- У кого способ оплаты с помощью автоматического списания с банка или с карты в среднем остаются на 43 месяца, у кого электронный чек, остаются на 25 месяцев, у кого чек по почте на 21 месяц\n",
    "- те, которые ушли оставались на 17 месяцев, те которые нет сидят в компании в среднем 37 месяцев\n",
    "============================================================================================================================================\n",
    "- Больше 40% из тех кто ушел не имели сервиса онлайн защиты\n",
    "- 33% из тех кто ушел не имели партнера\n",
    "- 31% из тех кто ушел не являлся кормильцем\n",
    "- 40% из тех кто ушел не использовали бэкапы\n",
    "- 40% из тех кто уше не имели защиту устройства\n",
    "- у 40% из тех кто ушел не было тех поддержки\n",
    "- у почти 43% был контракт ежемесячный"
   ]
  },
  {
   "cell_type": "markdown",
   "id": "d8efa465-45b6-4f4d-b11d-fe89361cebcc",
   "metadata": {},
   "source": [
    "- Клиенты, у которых есть партнер или семья, остаются в компании дольше. Это может указывать на то, что компания может использовать семейные пакеты или предложения для клиентов с партнерами.\n",
    "\n",
    "- Клиенты, у которых есть онлайн-безопасность, защита устройства и техническая поддержка, остаются значительно дольше. Это свидетельствует о важности этих услуг для удержания клиентов.\n",
    "\n",
    "- Наличие нескольких линий и телефонных сервисов также связано с более длительным временем пребывания. Это может означать, что компании следует предлагать комплексные пакеты услуг.\n",
    "\n",
    "- Клиенты, имеющие доступ к интернет-сервисам (DSL или Fiber optic), остаются дольше. Это говорит о том, что улучшение качества и скорости интернета может способствовать удержанию клиентов.\n",
    "\n",
    "- Долгосрочные контракты (на 2 года) способствуют удержанию, в то время как месячные контракты связаны с более низким временем пребывания. Кроме того, автоматическое списание с банковского счета или кредитной карты также увеличивает время, проведенное клиентами в компании.\n",
    "\n",
    "- Можно разработать более привлекательные пакеты услуг, включая онлайн-безопасность, резервное копирование и техническую поддержку, чтобы клиенты ощущали дополнительную ценность.\n",
    "\n",
    "- Можно ввести специальные предложения для клиентов с партнерами или семьями, чтобы увеличить удержание клиентов.\n",
    "\n",
    "- Предложить клиентам больше разнообразия в пакетах услуг, включая различные комбинации телефонных и интернет-сервисов, чтобы повысить привлекательность.\n",
    "\n",
    "- Рассмотреть возможность более гибкого подхода к контрактам, возможно, предлагать выгодные условия для долгосрочных клиентов, чтобы увеличить их лояльность.\n",
    "\n",
    "- Повысить информированность клиентов о доступных услугах и пакетах, особенно о тех, которые могут повысить их уровень безопасности и удобства.\n",
    "\n",
    "- Проводить регулярный анализ данных о клиентах для выявления дополнительных причин ухода и корректировки стратегий удержания.\n",
    "\n",
    "- Создать каналы для обратной связи, чтобы понять, что именно вызывает недовольство клиентов, и работать над улучшением этих аспектов."
   ]
  },
  {
   "cell_type": "markdown",
   "id": "0e2e0e78",
   "metadata": {},
   "source": []
  }
 ],
 "metadata": {
  "colab": {
   "provenance": []
  },
  "kernelspec": {
   "display_name": "Python 3 (ipykernel)",
   "language": "python",
   "name": "python3"
  },
  "language_info": {
   "codemirror_mode": {
    "name": "ipython",
    "version": 3
   },
   "file_extension": ".py",
   "mimetype": "text/x-python",
   "name": "python",
   "nbconvert_exporter": "python",
   "pygments_lexer": "ipython3",
   "version": "3.10.11"
  },
  "papermill": {
   "default_parameters": {},
   "duration": 110.694338,
   "end_time": "2022-09-17T00:14:38.634386",
   "environment_variables": {},
   "exception": null,
   "input_path": "__notebook__.ipynb",
   "output_path": "__notebook__.ipynb",
   "parameters": {},
   "start_time": "2022-09-17T00:12:47.940048",
   "version": "2.3.3"
  }
 },
 "nbformat": 4,
 "nbformat_minor": 5
}
